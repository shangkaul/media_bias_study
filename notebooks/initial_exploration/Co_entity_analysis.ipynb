{
 "cells": [
  {
   "cell_type": "code",
   "execution_count": 3,
   "id": "ce221891",
   "metadata": {},
   "outputs": [],
   "source": [
    "news_src_path=\"../newscrawler/data/usatoday_articles_20250531.json\""
   ]
  },
  {
   "cell_type": "code",
   "execution_count": 4,
   "id": "03178929",
   "metadata": {},
   "outputs": [],
   "source": [
    "import json\n",
    "from datetime import datetime\n",
    "\n",
    "import pandas as pd\n",
    "import spacy\n",
    "from sklearn.decomposition import LatentDirichletAllocation\n",
    "from sklearn.feature_extraction.text import CountVectorizer\n",
    "\n",
    "# 1. Load your JSON data\n",
    "with open(news_src_path, 'r', encoding='utf-8') as f:\n",
    "    articles = json.load(f)\n",
    "\n",
    "# 2. Filter for USA Today\n",
    "usadata = [a for a in articles if a['source_domain'] == 'usatoday.com']\n",
    "\n",
    "# 3. Prepare text & dates\n",
    "texts = [a['text'] for a in usadata]\n",
    "dates = [datetime.fromisoformat(a['date_published'].replace('Z','')) for a in usadata]\n",
    "\n",
    "# 4. Function to print top words per topic\n",
    "def print_topics(model, feature_names, top_n=10):\n",
    "    for idx, topic in enumerate(model.components_):\n",
    "        top_features = [feature_names[i] for i in topic.argsort()[:-top_n - 1:-1]]\n",
    "        print(f\"Topic {idx}: {', '.join(top_features)}\")\n",
    "\n"
   ]
  },
  {
   "cell_type": "code",
   "execution_count": 5,
   "id": "105d59b4",
   "metadata": {},
   "outputs": [
    {
     "name": "stdout",
     "output_type": "stream",
     "text": [
      "=== Overall Topics for USA Today (Oct ’23–May ’25) ===\n",
      "Topic 0: taylor, wilson, today, usa, trump, just, really, people\n",
      "Topic 1: trump, said, trial, cohen, read, aysha, new, bagchi\n",
      "Topic 2: israel, said, gaza, hamas, israeli, war, military, killed\n",
      "Topic 3: students, university, said, jewish, campus, school, college, student\n",
      "Topic 4: said, biden, house, president, israel, trump, ukraine, war\n",
      "Topic 5: trump, said, president, biden, people, donald, just, like\n",
      "Topic 6: 2024, news, year, tiktok, new, usa, time, story\n",
      "Topic 7: trump, biden, said, harris, president, voters, democratic, campaign\n",
      "Topic 8: carter, year, el, said, church, en, time, la\n",
      "Topic 9: said, police, today, usa, post, people, new, according\n"
     ]
    }
   ],
   "source": [
    "# ─────────────────────────────────────────────────────────\n",
    "# 5. FULL-PERIOD LDA (all USA Today articles)\n",
    "vectorizer = CountVectorizer(\n",
    "    max_df=0.9,\n",
    "    min_df=2,\n",
    "    stop_words='english'\n",
    ")\n",
    "dtm = vectorizer.fit_transform(texts)\n",
    "lda = LatentDirichletAllocation(\n",
    "    n_components=10,\n",
    "    random_state=42\n",
    ")\n",
    "lda.fit(dtm)\n",
    "\n",
    "print(\"=== Overall Topics for USA Today (Oct ’23–May ’25) ===\")\n",
    "print_topics(lda, vectorizer.get_feature_names_out(), top_n=8)\n",
    "\n",
    "\n"
   ]
  },
  {
   "cell_type": "code",
   "execution_count": 6,
   "id": "f02e0463",
   "metadata": {},
   "outputs": [
    {
     "name": "stdout",
     "output_type": "stream",
     "text": [
      "\n",
      "=== Sample NER Output ===\n",
      "                                               title  \\\n",
      "0  International Atomic Energy Agency report spel...   \n",
      "1  Trump says he wants foreign students to study ...   \n",
      "2  Oreo maker sues Aldi over alleged copycat cook...   \n",
      "3  How to follow the Israel-Hamas war with USA TODAY   \n",
      "4  US proposes 60-day ceasefire for Gaza; hostage...   \n",
      "\n",
      "                                            entities  \n",
      "0  [VIENNA, Reuters, Iran, U.N., Reuters, Board o...  \n",
      "1  [WASHINGTON, Donald Trump, White House, the Un...  \n",
      "2  [Oreos, Chips Ahoy, Ritz, Aldi, Mondelēz Inter...  \n",
      "3  [USA TODAY's, Israel-Hamas War, Israel, Hamas,...  \n",
      "4  [Reuters, U.S., Gaza, Reuters, U.S., Donald Tr...  \n"
     ]
    }
   ],
   "source": [
    "# ─────────────────────────────────────────────────────────\n",
    "# 7. NAMED ENTITY RECOGNITION (NER)\n",
    "nlp = spacy.load('en_core_web_sm')  # install with: python -m spacy download en_core_web_sm\n",
    "\n",
    "ner_data = []\n",
    "for art in usadata:\n",
    "    doc = nlp(art['text'])\n",
    "    ents = [ent.text for ent in doc.ents if ent.label_ in ('PERSON','ORG','GPE')]\n",
    "    ner_data.append({\n",
    "        'title': art['title'],\n",
    "        'entities': ents\n",
    "    })\n",
    "\n",
    "df_ner = pd.DataFrame(ner_data)\n",
    "print(\"\\n=== Sample NER Output ===\")\n",
    "print(df_ner.head())"
   ]
  },
  {
   "cell_type": "code",
   "execution_count": 7,
   "id": "40cbeede",
   "metadata": {},
   "outputs": [
    {
     "data": {
      "text/html": [
       "<div>\n",
       "<style scoped>\n",
       "    .dataframe tbody tr th:only-of-type {\n",
       "        vertical-align: middle;\n",
       "    }\n",
       "\n",
       "    .dataframe tbody tr th {\n",
       "        vertical-align: top;\n",
       "    }\n",
       "\n",
       "    .dataframe thead th {\n",
       "        text-align: right;\n",
       "    }\n",
       "</style>\n",
       "<table border=\"1\" class=\"dataframe\">\n",
       "  <thead>\n",
       "    <tr style=\"text-align: right;\">\n",
       "      <th></th>\n",
       "      <th>title</th>\n",
       "      <th>entities</th>\n",
       "    </tr>\n",
       "  </thead>\n",
       "  <tbody>\n",
       "    <tr>\n",
       "      <th>0</th>\n",
       "      <td>International Atomic Energy Agency report spel...</td>\n",
       "      <td>[VIENNA, Reuters, Iran, U.N., Reuters, Board o...</td>\n",
       "    </tr>\n",
       "    <tr>\n",
       "      <th>1</th>\n",
       "      <td>Trump says he wants foreign students to study ...</td>\n",
       "      <td>[WASHINGTON, Donald Trump, White House, the Un...</td>\n",
       "    </tr>\n",
       "    <tr>\n",
       "      <th>2</th>\n",
       "      <td>Oreo maker sues Aldi over alleged copycat cook...</td>\n",
       "      <td>[Oreos, Chips Ahoy, Ritz, Aldi, Mondelēz Inter...</td>\n",
       "    </tr>\n",
       "    <tr>\n",
       "      <th>3</th>\n",
       "      <td>How to follow the Israel-Hamas war with USA TODAY</td>\n",
       "      <td>[USA TODAY's, Israel-Hamas War, Israel, Hamas,...</td>\n",
       "    </tr>\n",
       "    <tr>\n",
       "      <th>4</th>\n",
       "      <td>US proposes 60-day ceasefire for Gaza; hostage...</td>\n",
       "      <td>[Reuters, U.S., Gaza, Reuters, U.S., Donald Tr...</td>\n",
       "    </tr>\n",
       "    <tr>\n",
       "      <th>...</th>\n",
       "      <td>...</td>\n",
       "      <td>...</td>\n",
       "    </tr>\n",
       "    <tr>\n",
       "      <th>3166</th>\n",
       "      <td>Timeline of conflict: Why the 2023 Israeli-Pal...</td>\n",
       "      <td>[Israel, Gaza, Hamas, Israel, Benjamin Netanya...</td>\n",
       "    </tr>\n",
       "    <tr>\n",
       "      <th>3167</th>\n",
       "      <td>Simone Biles vault final shows athlete safety ...</td>\n",
       "      <td>[Belgium, Simone Biles, Laurent Landi, Yurchen...</td>\n",
       "    </tr>\n",
       "    <tr>\n",
       "      <th>3168</th>\n",
       "      <td>Israel updates: 'We are at war,' Israel's Neta...</td>\n",
       "      <td>[Israel, Hamas, Israel, Israel, Benjamin Netan...</td>\n",
       "    </tr>\n",
       "    <tr>\n",
       "      <th>3169</th>\n",
       "      <td>Mini-skirts and hijabs: After a rights crackdo...</td>\n",
       "      <td>[Cadillac, Ray Ban, Iran, U.S., CIA, Iran, the...</td>\n",
       "    </tr>\n",
       "    <tr>\n",
       "      <th>3170</th>\n",
       "      <td>Horoscopes Today, October 7, 2023</td>\n",
       "      <td>[Libra, Personality, Zodiac, Libra Daily Horos...</td>\n",
       "    </tr>\n",
       "  </tbody>\n",
       "</table>\n",
       "<p>3171 rows × 2 columns</p>\n",
       "</div>"
      ],
      "text/plain": [
       "                                                  title  \\\n",
       "0     International Atomic Energy Agency report spel...   \n",
       "1     Trump says he wants foreign students to study ...   \n",
       "2     Oreo maker sues Aldi over alleged copycat cook...   \n",
       "3     How to follow the Israel-Hamas war with USA TODAY   \n",
       "4     US proposes 60-day ceasefire for Gaza; hostage...   \n",
       "...                                                 ...   \n",
       "3166  Timeline of conflict: Why the 2023 Israeli-Pal...   \n",
       "3167  Simone Biles vault final shows athlete safety ...   \n",
       "3168  Israel updates: 'We are at war,' Israel's Neta...   \n",
       "3169  Mini-skirts and hijabs: After a rights crackdo...   \n",
       "3170                  Horoscopes Today, October 7, 2023   \n",
       "\n",
       "                                               entities  \n",
       "0     [VIENNA, Reuters, Iran, U.N., Reuters, Board o...  \n",
       "1     [WASHINGTON, Donald Trump, White House, the Un...  \n",
       "2     [Oreos, Chips Ahoy, Ritz, Aldi, Mondelēz Inter...  \n",
       "3     [USA TODAY's, Israel-Hamas War, Israel, Hamas,...  \n",
       "4     [Reuters, U.S., Gaza, Reuters, U.S., Donald Tr...  \n",
       "...                                                 ...  \n",
       "3166  [Israel, Gaza, Hamas, Israel, Benjamin Netanya...  \n",
       "3167  [Belgium, Simone Biles, Laurent Landi, Yurchen...  \n",
       "3168  [Israel, Hamas, Israel, Israel, Benjamin Netan...  \n",
       "3169  [Cadillac, Ray Ban, Iran, U.S., CIA, Iran, the...  \n",
       "3170  [Libra, Personality, Zodiac, Libra Daily Horos...  \n",
       "\n",
       "[3171 rows x 2 columns]"
      ]
     },
     "execution_count": 7,
     "metadata": {},
     "output_type": "execute_result"
    }
   ],
   "source": [
    "df_ner"
   ]
  },
  {
   "cell_type": "code",
   "execution_count": 8,
   "id": "04774110",
   "metadata": {},
   "outputs": [
    {
     "name": "stdout",
     "output_type": "stream",
     "text": [
      "['VIENNA', 'Reuters', 'Iran', 'U.N.', 'Reuters', 'Board of Governors', 'the United States', 'Britain', 'France', 'Germany', 'Iran', 'Iran', 'Tehran', 'Washington', 'IAEA', 'Iran', 'Iran', 'Tehran', 'the Board of Governors', 'Tehran', 'IAEA', 'Iran', 'IAEA', 'IAEA', 'IAEA', 'Iran', 'Turquzabad', 'Agency', 'Iran', 'Iran', 'Lavisan-Shian', 'Varamin', 'Turquzabad', 'Lavisan-Shian', 'Tehran', 'Iran', 'the U.N. Security Council', 'IAEA', 'Iran', 'the United States', 'IAEA', 'Iran', 'IAEA', 'IAEA', 'Israel', 'Iran', 'IAEA', 'Tehran', 'Benjamin Netanyahu', 'Iran', 'U.S.', 'IAEA', 'Iran', 'Iran', 'Abbas Araqchi', 'U.S.', 'Tehran', 'Washington', 'Tehran', 'Araqchi', 'Iran', 'U.S.', 'Iran', 'Washington', 'Tehran', 'Francois Murphy', 'Menna Alaa El-Din', 'Cairo', 'Parisa Hafezi', 'Dubai', 'Toby Chopra', 'Frances Kerry']\n"
     ]
    }
   ],
   "source": [
    "print(df_ner.loc[0, 'entities'])\n"
   ]
  },
  {
   "cell_type": "code",
   "execution_count": 9,
   "id": "1e9f56c0",
   "metadata": {},
   "outputs": [
    {
     "name": "stdout",
     "output_type": "stream",
     "text": [
      "                                               title  entity_count\n",
      "0  International Atomic Energy Agency report spel...            72\n",
      "1  Trump says he wants foreign students to study ...            15\n",
      "2  Oreo maker sues Aldi over alleged copycat cook...            62\n",
      "3  How to follow the Israel-Hamas war with USA TODAY            13\n",
      "4  US proposes 60-day ceasefire for Gaza; hostage...            68\n"
     ]
    }
   ],
   "source": [
    "df_ner['entity_count'] = df_ner['entities'].str.len()\n",
    "print(df_ner[['title','entity_count']].head())\n"
   ]
  },
  {
   "cell_type": "code",
   "execution_count": 10,
   "id": "9d7d1221",
   "metadata": {},
   "outputs": [
    {
     "name": "stdout",
     "output_type": "stream",
     "text": [
      "[('Israel', 12511), ('Trump', 10374), ('Gaza', 7948), ('Hamas', 7172), ('Biden', 6692), ('U.S.', 5640), ('Taylor Wilson', 2992), ('Donald Trump', 2522), ('Harris', 2371), ('Iran', 2248), ('USA TODAY', 2009), ('Joe Biden', 1834), ('−', 1524), ('Netanyahu', 1381), ('Ukraine', 1373), ('House', 1367), ('Congress', 1312), ('the United States', 1279), ('Excerpt', 1191), ('America', 1174), ('Senate', 1144), ('Hezbollah', 1028), ('New York', 959), ('US', 925), ('GOP', 924), ('Reuters', 923), ('Washington', 899), ('the White House', 852), ('Kamala Harris', 851), ('Russia', 841), ('Lebanon', 839), ('Michigan', 809), ('Florida', 764), ('Rafah', 691), ('U.N.', 680), ('White House', 666), ('Benjamin Netanyahu', 634), ('Egypt', 619), ('Pennsylvania', 608), ('TikTok', 548), ('Syria', 538), ('Harvard', 531), ('California', 513), ('Haley', 509), ('Texas', 505), ('Carter', 499), ('China', 494), ('Columbia', 490), ('Georgia', 487), ('Chicago', 478), ('the Gaza Strip', 472), ('the West Bank', 453), ('Johnson', 450), ('Qatar', 438), ('FBI', 435), ('Francis', 417), ('Twitter', 412), ('WASHINGTON', 410), ('Ohio', 406), ('Palestine', 405), ('Yemen', 399), ('South Carolina', 399), ('Vance', 395), ('Minnesota', 377), ('State', 374), ('Instagram', 372), ('Pentagon', 353), ('Arizona', 346), ('Aysha Bagchi', 342), ('Nicole Fallert', 338), ('Taylor', 334), ('Cohen', 333), ('Columbia University', 331), ('Iraq', 327), ('North Carolina', 320), ('CNN', 317), ('Houthi', 307), ('New York City', 301), ('France', 292), ('Jordan', 292), ('the Supreme Court', 291), ('Blinken', 291), ('USA Today', 282), ('Khalil', 281), ('Walz', 267), ('Mexico', 266), ('New Jersey', 264), ('Wisconsin', 262), ('Iowa', 261), ('Joey Garrison', 258), (\"Donald Trump's\", 255), ('Houthis', 255), ('Kennedy', 254), ('Hegseth', 248), ('New Hampshire', 247), ('Tehran', 238), ('USA', 237), ('Jerusalem', 235), ('Shapiro', 232), ('Austin', 232), ('Nikki Haley', 228), ('Canada', 226), ('Los Angeles', 226), ('Gaza City', 225), ('Obama', 219), ('The Associated Press', 219), ('Tim Walz', 219), ('JD Vance', 215), ('Tel Aviv', 214), ('AI', 213), ('D.C.', 213), ('Mike Johnson', 207), ('Nicole', 206), ('Paris', 204), ('Defense', 198), ('Supreme Court', 196), ('West Bank', 196), ('Manhattan', 193), ('Bart Jansen', 192), ('UNRWA', 191), ('The White House', 191), ('the Democratic Party', 189), ('Dana Taylor', 188), ('Beirut', 186), ('Britain', 184), ('IDF', 184), (\"USA TODAY's\", 177), ('Khan Younis', 176), ('Afghanistan', 176), ('Daily Briefing', 175), ('DNC', 174), ('Virginia', 172), ('Meta', 171), ('the United Nations', 167), ('Antony Blinken', 167), ('Detroit', 166), ('UN', 166), ('Putin', 166), ('Francesca Chambers', 166), ('Bush', 166), ('Fox News', 165), ('COVID-19', 164), ('Fed', 164), ('David Jackson', 164), ('Barack Obama', 163), ('Milwaukee', 161), ('NATO', 161), ('Philadelphia', 157), ('Nevada', 156), ('Susan Page', 156), ('DEI', 154), ('Louisiana', 153), ('Michael Cohen', 153), ('Germany', 152), ('Assad', 149), ('Merchan', 149), ('Kentucky', 148), ('Saudi Arabia', 147), ('Combs', 145), ('Massachusetts', 143), ('Turkey', 143), ('Illinois', 142), ('San Francisco', 142), ('Stormy Daniels', 141), ('Elon Musk', 140), ('Karissa Waddick', 140), ('Associated Press', 138), ('Kirby', 138), ('Vermont', 137), ('Miami', 136), ('RNC', 136), ('Truth Social', 134), ('Greenland', 134), ('Cairo', 133), ('the USA TODAY Network', 133), ('MAGA', 133), ('the Associated Press', 133), ('Colorado', 132), ('Tom Vanden Brook', 132), ('John Kirby', 131), ('Trevor Hughes', 130), ('Jimmy Carter', 130), ('Cabinet', 129), ('Karen Weintraub', 129), ('NFL', 128), ('Kim Hjelmgaard', 128), ('Stefanik', 128), ('NBC', 127), ('Sanders', 127), ('David', 126), ('Gaza Strip', 124), ('Elizabeth Weise', 124), ('The United States', 122), ('DeSantis', 122), ('Maryland', 121), ('Medicare', 121), ('Vladimir Putin', 120), ('Atlanta', 119), ('Josh Meyer', 116), ('ADL', 116), ('Alabama', 116), ('Yoav Gallant', 116), ('the Democratic National Convention', 116), ('Savannah Kuchar', 115), ('Taylor Swift', 114), ('Dearborn', 114), ('Davidson', 113), ('Daniel de Visé', 113), ('Pakistan', 112), ('the Republican Party', 112), ('Taiwan', 110), ('the International Fact-Checking Network', 110), ('Ron DeSantis', 110), ('the State Department', 109), ('Hillary Clinton', 107), ('Capitol Hill', 106), ('Juan Merchan', 106), ('Japan', 105), ('Bart', 105), ('Islamophobia', 103), ('Argentina', 103), ('Riley Beggin', 103), ('Sara Ganim', 103), ('the Justice Department', 102), ('CIA', 102), ('Rubio', 101), ('Sullivan', 101), ('Deborah', 101), ('Michael Collins', 101), ('Chuck Schumer', 100), ('Lauren Villagran', 99), ('Maureen Groppe', 98), ('London', 98), ('Schumer', 98), ('Navy', 98), ('Hollywood', 97), ('Bernie Sanders', 97), ('Kamala', 97), ('Medora Lee', 97), ('UCLA', 96), ('India', 96), ('Susan', 96), ('Sudiksha Kochi', 96), ('Marco Rubio', 95), ('Fetterman', 95), ('South Africa', 94), ('Email', 93), ('Las Vegas', 91), ('CBS', 91), ('AP', 91), ('Sudan', 91), ('Clinton', 91), ('Super', 91), ('Oregon', 90), ('Indiana', 90), ('United Nations', 90), ('Damascus', 90), ('the Fact-Check Team', 90), ('Ramaswamy', 90), ('Smith', 89), ('Social Security', 89), ('Tlaib', 89), ('Donald Trump’s', 88), ('Tennessee', 88), ('McCarthy', 88), ('Boston', 87), ('EPA', 87), ('NPR', 86), ('the Oval Office', 86), ('Maine', 85), ('Army', 85), ('Delaware', 85), ('n’t', 84), ('The Supreme Court', 84), ('Al Jazeera', 84), ('Nasrallah', 84), ('U.K.', 83), ('Spain', 83), ('Williams', 82), ('Robert F. Kennedy Jr.', 82), ('Jake Sullivan', 82), ('Hunter Biden', 81), ('NYPD', 81), ('Phillip M. Bailey', 81), ('Daniel', 81), ('Joey', 81), ('Oscar', 80), ('Eduardo', 80), ('Zac Anderson', 79), ('Lloyd Austin', 79), ('Missouri', 79), ('The New York Times', 78), ('IRS', 78), ('the Gaza Health Ministry', 78), ('Daniels', 78), ('the Republican National Convention', 77), ('UFC', 76), ('ISIS', 76), ('Adesanya', 76), ('COVID', 76), ('Brown', 75), ('New Orleans', 75), ('Khanna', 75), ('Bowman', 75), ('Arkansas', 74), ('Utah', 74), ('Medicaid', 74), ('Doha', 74), ('Cornell', 74), ('Google', 74), ('Italy', 73), ('the Palestinian Authority', 73), ('Fla.', 73), ('Haniyeh', 73), ('Shafik', 73), ('Ken Tran', 73), ('NBC News', 72), ('Josh Shapiro', 72), ('DAVID MUIR', 72), ('DONALD TRUMP', 72), ('Harvard University', 71), ('State Department', 71), ('Poland', 70), ('ICC', 70), ('Bondi', 69), ('Mahmoud Khalil', 69), ('Bill Clinton', 69), ('U.S. Central Command', 69), ('Erin Mansfield', 69), ('Omar', 69), ('Connecticut', 68), ('Hawaii', 68), ('Mitch McConnell', 68), ('McConnell', 68), ('Australia', 67), ('Ismail Haniyeh', 67), ('Black', 67), ('Alexander', 67), ('Greene', 67), ('Moscow', 67), ('EU', 67), ('Ye', 67), ('Karen', 67), ('ABC News', 66), ('the Anti-Defamation League', 66), ('Starbucks', 66), ('Jessica Guynn', 66), ('PAC', 66), ('Daniel Hagari', 66), ('Josh', 66), ('New York Times', 65), ('Volodymyr Zelenskyy', 65), ('Hill', 65), ('Hunter', 65), ('Haiti', 64), ('Jesus', 64), ('Khamenei', 64), ('Justice Department', 63), ('CAIR', 63), ('George W. Bush', 63), ('Beth', 63), ('State of the Union', 63), ('Eaton', 63), ('Gantz', 63), ('Ireland', 62), ('Vietnam', 62), ('Vivek Ramaswamy', 62), ('Scott', 62), ('DOGE', 61), ('Messi', 61), ('Phoenix', 61), ('the Israel Defense Forces', 61), ('Capitol', 61), ('NCAA', 61), ('the Education Department', 61), ('Amazon', 61), ('Alaska', 61), ('Kissinger', 61), ('Aysha', 60), ('Rome', 60), ('Pete Hegseth', 60), ('Mossad', 60), ('CDC', 60), ('Butler', 60), ('Rachel Barber', 60), ('Gen Z', 60), ('Trump’s', 59), ('Indianapolis', 59), ('Dallas', 59), ('Mike Pence', 59), ('Pope Francis', 59), ('Rwanda', 59), ('CBS News', 59), ('Macron', 59), ('Kevin McCarthy', 59), ('Times of Israel', 59), ('Magill', 59), ('Minneapolis', 58), ('Ventura Fine', 58), ('Hungary', 58), ('NBA', 58), ('Homeland Security', 58), ('USA TODAY Justice Department', 58), ('Times', 58), ('Ky.', 58), ('USC', 58), ('Penn', 58), ('the United Center', 58), ('Paul', 57), ('Balmer', 57), ('FDA', 57), ('Rashida Tlaib', 57), ('Tom', 57), ('Taliban', 57), ('Seinfeld', 57), ('Dai', 57), ('Nebraska', 56), ('Apple', 56), ('Elise Stefanik', 56), ('Abbas', 56), ('Francesca', 56), ('Norfolk Southern', 56), ('Jill Biden', 56), ('Boeing', 55), ('George Floyd', 55), ('Zachary Schermele', 55), ('Brooklyn', 55), ('Miller', 55), ('Marjorie Taylor Greene', 55), ('the United Arab Emirates', 54), ('Zelenskyy', 54), (\"Joe Biden's\", 54), ('Beyoncé', 54), ('Oscars', 54), ('Gaza Health Ministry', 54), ('Karine Jean-Pierre', 54), ('United States', 53), ('Fox', 53), ('the State of Israel', 53), ('Oklahoma', 53), ('Muhammad', 53), ('Michelle Obama', 53), ('ABC', 53), ('Patel', 53), ('Wilder', 53), ('Air Force', 52), ('Beijing', 52), ('Hamilton Hall', 52), ('Kim', 52), ('Sudiksha', 52), ('Smirnov', 52), ('Sara Pequeño', 51), ('the University of Pennsylvania', 51), ('Baltimore', 51), ('Adams', 51), ('Brazil', 51), ('ACLU', 51), ('AIPAC', 51), ('VP', 51), ('the Secret Service', 51), ('Blanche', 51), ('TIM', 51), ('Ingrid Jacques', 50), ('Trevor', 50), ('Panama', 50), ('West Virginia', 49), ('Nashville', 49), ('un', 49), ('MSNBC', 49), ('Netflix', 49), ('Pittsburgh', 49), ('Todd Blanche', 49), ('Hanukkah', 49), ('Ken', 49), ('the International Criminal Court', 48), ('UAE', 48), ('Nancy Pelosi', 48), ('Ronald Reagan', 48), ('USAID', 48), ('the United States of America', 48), ('the New York Times', 48), ('Stewart', 48), ('Bailey Schulz', 48), ('Stein', 48), ('Xi', 48), ('Calif.', 48), ('JD VANCE', 48), ('East Jerusalem', 47), ('The Justice Department', 47), ('Idaho', 47), ('UK', 47), ('Disney', 47), ('Houston', 47), ('MIT', 47), ('Jenin', 47), ('Nixon', 47), ('Gutierrez', 47), ('Phillip', 46), ('Jackson', 46), ('El Salvador', 46), ('Hakeem Jeffries', 46), ('Mississippi', 46), ('Edan Alexander', 46), ('WhatsApp', 46), ('the U.S. Senate', 46), ('Berkeley', 46), ('South Dakota', 46), ('Raisi', 46), ('John Fritze', 46), ('Betar', 46), ('Dubai', 45), ('Zach Schermele', 45), ('the World Health Organization', 45), ('BBC', 45), ('U.S', 45), ('The State Department', 45), ('Yale', 45), ('Netherlands', 45), ('Hassan Nasrallah', 45), ('Ga.', 45), ('WCK', 45), ('the United Kingdom', 44), ('the Department of Homeland Security', 44), ('Norway', 44), ('Karoline Leavitt', 44), ('Nick Penzenstadler', 44), ('Fatah', 44), ('Menendez', 44), ('Hagari', 44), ('Musk', 43), ('Zach', 43), ('John Bacon', 43), ('Joe Biden’s', 43), ('Chris Christie', 43), ('Morocco', 43), ('John', 43), ('Ramallah', 43), ('Health Ministry', 43), ('Eric Trump', 43), ('Wyoming', 43), ('APEC', 43), ('Emhoff', 43), ('McConney', 43), (\"Donald Trump 's\", 42), ('North Korea', 42), ('Sweden', 42), ('Laura Beatty', 42), ('Gallup', 42), ('Czuba', 42), ('Leavitt', 42), ('Grammys', 42), ('NYU', 42), ('Tim', 42), ('Barbie', 42), ('USA TODAY Sports', 41), ('Treasury', 41), ('Gazan', 41), ('Lee', 41), ('Alexandria Ocasio-Cortez', 41), ('The Washington Post', 41), ('Rhode Island', 41), ('Phillips', 41), ('Minouche Shafik', 41), ('Epstein', 41), ('NEW YORK', 40), ('Eric Adams', 40), ('Cincinnati', 40), ('U.S.-Mexico', 40), ('Judaism', 40), ('J.D. Vance', 40), ('Denmark', 40), ('Kremlin', 40), (\"Kamala Harris'\", 40), ('YouTube', 40), ('Savannah', 40), ('ByteDance', 40), ('Lauren', 40), ('Claudine Gay', 40), ('Gay', 40), ('Ameri', 40), ('Mahmoud', 39), ('Kansas', 39), ('Islamic Jihad', 39), ('Burlington', 39), ('Melania Trump', 39), ('Medora', 39), ('Hitler', 39), ('Rosalynn Carter', 39), ('Whitmer', 39), ('Captagon', 39), ('@joeygarrison', 39), ('Labels', 39), ('Khan', 39), ('Kinsey Crowley', 38), ('CAIRO', 38), ('Cuba', 38), ('Moreno', 38), ('Kelly', 38), ('Plains', 38), ('Mahmoud Abbas', 37), ('James', 37), ('Nuseirat', 37), ('Floyd', 37), ('U.S. Navy', 37), ('Emmanuel Macron', 37), ('IOC', 37), ('New York University', 37), ('Benny Gantz', 37), ('Joe', 37), ('− Sudiksha', 37), ('Alia Wong', 37), ('Arouri', 37), ('Witkoff', 36), ('Pam Bondi', 36), ('X.', 36), ('WHO', 36), ('USA TODAY National', 36), ('Montana', 36), (\"South Africa's\", 36), ('The United Nations', 36), ('Santos', 36), ('Sarah D. Wire', 36), ('Daniel de Vise', 36), ('Katz', 36), ('Richard Nixon', 36), ('− Savannah Kuchar', 36), ('National Security Council', 36), ('Swift', 36), ('IVF', 36), ('Perry', 36), ('MLS', 35), ('San Diego', 35), ('New Zealand', 35), ('Riyadh', 35), ('Education', 35), ('Islam', 35), ('Venezuela', 35), ('the Department of Education', 35), ('Rear Adm.', 35), ('the International Court of Justice', 35), ('USA TODAY Congress', 35), ('Erin', 35), ('Tim Scott', 35), ('the Council on American-Islamic Relations', 34), ('Signal', 34), ('Israel Katz', 34), ('Central Command', 34), ('Charleston', 34), ('the National Guard', 34), ('Kessler', 34), ('Ford', 34), ('Palestinian Authority', 34), ('Time', 34), ('The Israel Defense Forces', 34), ('G7', 34), ('Tuberville', 34), ('the U.S. Supreme Court', 33), ('Jabalia', 33), ('Puerto Rico', 33), ('Isaac Herzog', 33), ('ESPN', 33), ('Oval Office', 33), ('Swapna Venugopal Ramaswamy', 33), ('Silva', 33), ('the Security Council', 33), ('NASA', 33), ('Jonathan Greenblatt', 33), ('Zac', 33), ('Secret Service', 33), ('Reagan', 33), ('QAnon', 33), ('Jones', 33), ('Zegler', 33), ('Aysha Bagchi Trump', 33), ('Wilmington', 33), ('Gallant', 33), ('Tyson', 33), ('ASU', 33), ('Yahya Sinwar', 32), ('the U.S. Embassy', 32), ('Ayatollah Ali Khamenei', 32), ('Xi Jinping', 32), ('the University of Michigan', 32), ('Transportation', 32), ('Torah', 32), ('Amsterdam', 32), ('Donald Trump Jr.', 32), ('Thomas', 32), ('Graham', 32), ('Jamaal Bowman', 32), ('Cori Bush', 32), ('Springfield', 32), ('Margaret', 32), ('Israel-Hamas War', 31), ('Louisville', 31), ('JERUSALEM', 31), ('Congo', 31), ('Pa.', 31), ('Politico', 31), ('the Catholic Church', 31), ('the Washington Post', 31), ('Antonio Guterres', 31), ('Gabbard', 31), ('Rex Huppke', 31), ('Chris Kenning', 31), ('Dean Phillips', 31), ('Brianne Pfannenstiel', 31), ('UAW', 31), ('Canary Mission', 31), ('the European Union', 30), ('Geneva', 30), ('Charlotte', 30), ('Rebecca Morin', 30), ('Washington D.C.', 30), ('Charles', 30), ('Pence', 30), ('Brown University', 30), ('Itamar Ben-Gvir', 30), ('the Soviet Union', 30), ('Gretchen Whitmer', 30), ('John F. Kennedy', 30), ('the Israel-Hamas War', 30), ('Seattle', 30), ('George Washington University', 30), ('Riley', 30), ('the House of Representatives', 30), ('McDonald', 30), ('Alejandro Mayorkas', 30), ('Christie', 30), ('Kristi Noem', 29), ('the Department of Justice', 29), ('Bronx', 29), ('Justice', 29), ('Washington Post', 29), ('Mike Huckabee', 29), ('UNICEF', 29), ('Cornell University', 29), ('New Mexico', 29), ('Andy Beshear', 29), ('John Fetterman', 29), ('European Union', 29), ('Matt Gaetz', 29), ('Ahmad', 29), ('Roberts', 29), ('Bibas', 29), ('CHICAGO', 29), ('Ukrainian', 29), ('Liz Cheney', 29), ('NTSB', 29), ('Shlomi Berger', 29), ('Kyiv', 29), ('Liz Magill', 29), ('Biden’s', 29), ('Steward', 29), ('Philippe Lazzarini', 29), ('Napolitano', 29), ('Rittenhouse', 29), ('the U.N. Security Council', 28), ('Steve Witkoff', 28), ('Bezalel Smotrich', 28), ('DC', 28), ('Air Force One', 28), ('Denver', 28), ('Bahrain', 28), ('Switzerland', 28), ('Robert F. Kennedy', 28), ('Myanmar', 28), ('The Gaza Health Ministry', 28), ('Murray', 28), ('North Dakota', 28), ('Boasberg', 28), ('Charles Trepany', 28), ('Williamson', 28), ('Doug Emhoff', 28), ('Bailey', 28), ('Uruguay', 28), ('Erdogan', 28), (\"Hunter Biden's\", 28), ('Jill Stein', 28), ('Lichtman', 28), ('Lankford', 28), ('− David Jackson', 28), ('Simone Biles', 28), ('the University of Texas', 28), ('Mayorkas', 28), ('Broner', 28), ('Pecker', 28), ('Bluesky', 27), ('Immigration and Customs Enforcement', 27), ('Diddy', 27), ('Cassie', 27), ('Bashar al-Assad', 27), ('Supreme', 27), ('Usha Vance', 27), ('DHS', 27), ('Bethlehem', 27), ('the Free Press', 27), ('Crooks', 27), ('Tokyo', 27), ('ATF', 27), ('Stanford', 27), ('Drake', 27), ('Massie', 27), ('Jessica', 27), ('Andrea Riquier', 27), ('Chen', 27), ('Gavin Newsom', 27), ('Knesset', 27), ('Tedros Adhanom Ghebreyesus', 27), ('Deif', 27), ('the Republican National Committee', 27), ('Wayfair', 27), ('Jonathan Dekel-Chen', 27), ('Karissa', 27), ('Democratic National Convention', 27), ('Chris', 27), ('Wong', 27), ('Zeitchik', 27), ('USMNT', 27), ('Kent State', 27), ('Kansas City', 26), ('the Senate Foreign Relations Committee', 26), ('USA TODAY Network', 26), ('Shifa Hospital', 26), ('South Korea', 26), ('Anti-Defamation League', 26), ('McCain', 26), ('Post', 26), ('Jack Smith', 26), ('Howard University', 26), ('Wall Street Journal', 26), ('Lindsey Graham', 26), ('N.C.', 26), ('Shiri Bibas', 26), ('Kfir', 26), ('Telegram', 26), ('USA TODAY/Suffolk University', 26), ('Planned Parenthood', 26), ('Joshua Steinglass', 26), ('David Pecker', 26), ('Jabbar', 26), ('Bell', 26), ('Guinea', 26), ('Haider', 26), ('Sharif', 26), ('Maureen', 25), ('the\\xa0 ', 25), ('Caitlin Clark', 25), ('Nicole Russell', 25), ('the Defense Department', 25), ('Philippines', 25), ('Church', 25), (\"the United States'\", 25), ('N.J.', 25), ('Simon', 25), ('Kibbutz Nir Oz', 25), ('FCC', 25), ('Somalia', 25), ('United Airlines', 25), ('Collins', 25), ('Republican Party', 25), ('St. Louis', 25), ('Ocasio-Cortez', 25), ('Letitia James', 25), ('Microsoft', 25), (\"New York's\", 25), ('Wilson', 25), ('Pete Buttigieg', 25), ('SNL', 25), ('the Democratic National Committee', 25), ('Jason Carter', 25), ('Salem', 25), ('Cobbs', 25), ('Anderson', 25), ('Mitt Romney', 25), ('Ilhan Omar', 25), ('Will', 25), ('Callahan', 25), ('Karen McDougal', 25), ('Rachel Looker', 25), ('Guardian', 24), ('Jorge L. Ortiz', 24), ('Noem', 24), ('Deir al-Balah', 24), ('Rachel', 24), ('Hersh Goldberg-Polin', 24), ('Aldo', 24), ('Waltz', 24), ('The Wall Street Journal', 24), ('Friedman', 24), ('Doug Burgum', 24), ('Revolutionary Guards', 24), ('Variety', 24), ('Hall', 24), ('Warner', 24), ('Goldberg', 24), ('Wright', 24), ('The Times of Israel', 24), ('Democratic Party', 24), ('Islamophobic', 24), ('Students for Justice', 24), ('Ariel', 24), ('Berger', 24), ('Duffy', 24), ('Mark Kelly', 24), ('Asheville', 24), ('Cooper', 24), ('Singh', 24), ('Navalny', 24), ('Department of Homeland Security', 23), ('Inter Miami', 23), ('Colombia', 23), ('England', 23), ('Edan', 23), ('Nidal al-Mughrabi', 23), ('FIRE', 23), ('Jane', 23), ('Israel Defense Forces', 23), ('Security Council', 23), ('Lyoya', 23), ('Cyprus', 23), ('Grammy', 23), ('CFPB', 23), ('Harry', 23), ('Jeanine Santucci', 23), ('Amin', 23), ('health ministry', 23), ('the Trump Organization', 23), ('the University of California', 23), ('Donald', 23), ('William Burns', 23), ('New York’s', 23), ('Matthew Miller', 23), ('N.Y.', 23), ('Garland', 23), ('Jean-Pierre', 23), ('Robinson', 23), ('Oakland', 23), ('Du Plessis', 23), ('Greg Abbott', 23), ('the Health Ministry', 23), ('Viktor', 23), ('Morehouse', 23), ('Andrés', 23), ('District Court', 22), (\"the White House's\", 22), ('Sarah', 22), ('the Federal Reserve', 22), ('Stephen Miller', 22), ('the Justice Department for USA', 22), ('Leo', 22), ('the Massachusetts Institute of Technology', 22), ('The Democratic Party', 22), ('Cleveland', 22), ('Nihad Awad', 22), ('Kash Patel', 22), ('Kataib Hezbollah', 22), ('Norfolk', 22), ('Gaetz', 22), ('the  ', 22), ('Nick', 22), ('Levy', 22), ('Cheney', 22), ('Travis Kelce', 22), ('Zach Wichter', 22), ('Foxx', 22), ('Fani Willis', 22), ('Nancy Armour', 22), ('John McCain', 22), ('Dan Morrison', 22), ('Helene', 22), ('AAA', 22), ('Dick Cheney', 22), ('Dana', 22), ('Chris Quintana', 22), ('Guterres', 22), ('Donald Trump ’s', 21), ('Florez', 21), ('the Internal Revenue Service', 21), ('Milgrim', 21), ('LinkedIn', 21), ('the U.S. House', 21), ('Education Department', 21), ('Istanbul', 21), ('Georgetown University', 21), ('The Arizona Republic', 21), ('the Israeli Defense Forces', 21), ('Belgium', 21), ('Kehlani', 21), ('Elizabeth Warren', 21), ('University', 21), ('National Security', 21), ('Carney', 21), ('USA TODAY Personal Finance', 21), ('Berlin', 21), ('Princeton University', 21), ('Huckabee', 21), ('MLB', 21), ('Barrera', 21), ('the National Security Council', 21)]\n"
     ]
    }
   ],
   "source": [
    "from collections import Counter\n",
    "all_ents = [e for ents in df_ner['entities'] for e in ents]\n",
    "freq = Counter(all_ents)\n",
    "print(freq.most_common(1000))\n",
    "\n"
   ]
  },
  {
   "cell_type": "code",
   "execution_count": 11,
   "id": "a42ed830",
   "metadata": {},
   "outputs": [],
   "source": [
    "# Pro-Israel entities\n",
    "israel_entities = {\n",
    "    \"Israel\",\n",
    "    \"Netanyahu\",\n",
    "    \"Benjamin Netanyahu\",\n",
    "    \"Jerusalem\"\n",
    "}\n",
    "\n",
    "# Pro-Palestinian entities\n",
    "palestine_entities = {\n",
    "    \"Gaza\",\n",
    "    \"the Gaza Strip\",\n",
    "    \"West Bank\",\n",
    "    \"Palestine\",\n",
    "    \"Hamas\",\n",
    "    \"Hezbollah\",\n",
    "    \"Rafah\"\n",
    "}"
   ]
  },
  {
   "cell_type": "code",
   "execution_count": 12,
   "id": "9f7f5ad2",
   "metadata": {},
   "outputs": [
    {
     "name": "stdout",
     "output_type": "stream",
     "text": [
      "                                                  title  entity_bias\n",
      "0     International Atomic Energy Agency report spel...     1.000000\n",
      "1     Trump says he wants foreign students to study ...     0.000000\n",
      "2     Oreo maker sues Aldi over alleged copycat cook...     0.000000\n",
      "3     How to follow the Israel-Hamas war with USA TODAY    -0.200000\n",
      "4     US proposes 60-day ceasefire for Gaza; hostage...    -0.277778\n",
      "...                                                 ...          ...\n",
      "3166  Timeline of conflict: Why the 2023 Israeli-Pal...     0.152941\n",
      "3167  Simone Biles vault final shows athlete safety ...     1.000000\n",
      "3168  Israel updates: 'We are at war,' Israel's Neta...     0.414634\n",
      "3169  Mini-skirts and hijabs: After a rights crackdo...     1.000000\n",
      "3170                  Horoscopes Today, October 7, 2023     0.000000\n",
      "\n",
      "[3171 rows x 2 columns]\n",
      "Overall entity bias: 0.010724540326024296\n"
     ]
    }
   ],
   "source": [
    "# Example bias function\n",
    "def ner_bias(ents):\n",
    "    ni = sum(e in israel_entities    for e in ents)\n",
    "    np = sum(e in palestine_entities for e in ents)\n",
    "    total = ni + np\n",
    "    return 0.0 if total == 0 else (ni - np) / total\n",
    "\n",
    "# Apply to your DataFrame\n",
    "df_ner['entity_bias'] = df_ner['entities'].apply(ner_bias)\n",
    "\n",
    "# Inspect a sample\n",
    "print(df_ner[['title','entity_bias']])\n",
    "print(\"Overall entity bias:\", df_ner['entity_bias'].mean())\n"
   ]
  },
  {
   "cell_type": "code",
   "execution_count": 14,
   "id": "b56b7f1f",
   "metadata": {},
   "outputs": [],
   "source": [
    "df_ner[['title','entities','entity_bias']].to_csv('articles_entities.csv', index=False)\n",
    "\n"
   ]
  },
  {
   "cell_type": "code",
   "execution_count": null,
   "id": "faa95fc8",
   "metadata": {},
   "outputs": [
    {
     "name": "stdout",
     "output_type": "stream",
     "text": [
      "\n",
      "=== May 2025 Topics ===\n",
      "Topic 0: trump, said, president, students, harvard, federal, administration, right\n",
      "Topic 1: combs, said, fine, ventura, taylor, wilson, today, just\n",
      "Topic 2: pope, francis, said, church, cardinals, leo, new, world\n",
      "Topic 3: said, 500, rodriguez, museum, indianapolis, jewish, indy, shooting\n",
      "Topic 4: said, israel, gaza, israeli, hamas, trump, war, people\n"
     ]
    }
   ],
   "source": [
    "print(\"\\n=== May 2025 Topics ===\")\n",
    "for topic_idx, topic in enumerate(lda_may.components_):\n",
    "    top_features = [feature_names[i] \n",
    "                    for i in topic.argsort()[:-n_top_words - 1:-1]]\n",
    "    print(f\"Topic {topic_idx}: {', '.join(top_features)}\")\n"
   ]
  }
 ],
 "metadata": {
  "kernelspec": {
   "display_name": "scraper",
   "language": "python",
   "name": "python3"
  },
  "language_info": {
   "codemirror_mode": {
    "name": "ipython",
    "version": 3
   },
   "file_extension": ".py",
   "mimetype": "text/x-python",
   "name": "python",
   "nbconvert_exporter": "python",
   "pygments_lexer": "ipython3",
   "version": "3.10.16"
  }
 },
 "nbformat": 4,
 "nbformat_minor": 5
}
