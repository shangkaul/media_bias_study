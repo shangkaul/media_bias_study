{
  "nbformat": 4,
  "nbformat_minor": 0,
  "metadata": {
    "colab": {
      "provenance": [],
      "authorship_tag": "ABX9TyMFR8yjNLoa7BpjdKGBHht3"
    },
    "kernelspec": {
      "name": "python3",
      "display_name": "Python 3"
    },
    "language_info": {
      "name": "python"
    },
    "widgets": {
      "application/vnd.jupyter.widget-state+json": {
        "7e683d136c334da5ac87299930c263e7": {
          "model_module": "@jupyter-widgets/controls",
          "model_name": "HBoxModel",
          "model_module_version": "1.5.0",
          "state": {
            "_dom_classes": [],
            "_model_module": "@jupyter-widgets/controls",
            "_model_module_version": "1.5.0",
            "_model_name": "HBoxModel",
            "_view_count": null,
            "_view_module": "@jupyter-widgets/controls",
            "_view_module_version": "1.5.0",
            "_view_name": "HBoxView",
            "box_style": "",
            "children": [
              "IPY_MODEL_a6f213698f2547f9a818bf060f0f74a3",
              "IPY_MODEL_23120348f71d4c6b8a105e73a2686250",
              "IPY_MODEL_c77be71271e54ea699febfe988b23e97"
            ],
            "layout": "IPY_MODEL_d5d0ccc97764443bbf45ab15b219a40f"
          }
        },
        "a6f213698f2547f9a818bf060f0f74a3": {
          "model_module": "@jupyter-widgets/controls",
          "model_name": "HTMLModel",
          "model_module_version": "1.5.0",
          "state": {
            "_dom_classes": [],
            "_model_module": "@jupyter-widgets/controls",
            "_model_module_version": "1.5.0",
            "_model_name": "HTMLModel",
            "_view_count": null,
            "_view_module": "@jupyter-widgets/controls",
            "_view_module_version": "1.5.0",
            "_view_name": "HTMLView",
            "description": "",
            "description_tooltip": null,
            "layout": "IPY_MODEL_c77f1e4ab07a4e0291be53189636963e",
            "placeholder": "​",
            "style": "IPY_MODEL_d526ee77526a480e8965cb51278d7a8e",
            "value": "100%"
          }
        },
        "23120348f71d4c6b8a105e73a2686250": {
          "model_module": "@jupyter-widgets/controls",
          "model_name": "FloatProgressModel",
          "model_module_version": "1.5.0",
          "state": {
            "_dom_classes": [],
            "_model_module": "@jupyter-widgets/controls",
            "_model_module_version": "1.5.0",
            "_model_name": "FloatProgressModel",
            "_view_count": null,
            "_view_module": "@jupyter-widgets/controls",
            "_view_module_version": "1.5.0",
            "_view_name": "ProgressView",
            "bar_style": "success",
            "description": "",
            "description_tooltip": null,
            "layout": "IPY_MODEL_90216dd22a29431b90a54322b7890dda",
            "max": 386,
            "min": 0,
            "orientation": "horizontal",
            "style": "IPY_MODEL_d2b9158d6b224f7e92f362a53e47d8c0",
            "value": 386
          }
        },
        "c77be71271e54ea699febfe988b23e97": {
          "model_module": "@jupyter-widgets/controls",
          "model_name": "HTMLModel",
          "model_module_version": "1.5.0",
          "state": {
            "_dom_classes": [],
            "_model_module": "@jupyter-widgets/controls",
            "_model_module_version": "1.5.0",
            "_model_name": "HTMLModel",
            "_view_count": null,
            "_view_module": "@jupyter-widgets/controls",
            "_view_module_version": "1.5.0",
            "_view_name": "HTMLView",
            "description": "",
            "description_tooltip": null,
            "layout": "IPY_MODEL_5a16f97645ec449d9153fd73cade7380",
            "placeholder": "​",
            "style": "IPY_MODEL_0dc156306ebf48788cb739890c1bbd4d",
            "value": " 386/386 [21:28&lt;00:00,  2.97s/it]"
          }
        },
        "d5d0ccc97764443bbf45ab15b219a40f": {
          "model_module": "@jupyter-widgets/base",
          "model_name": "LayoutModel",
          "model_module_version": "1.2.0",
          "state": {
            "_model_module": "@jupyter-widgets/base",
            "_model_module_version": "1.2.0",
            "_model_name": "LayoutModel",
            "_view_count": null,
            "_view_module": "@jupyter-widgets/base",
            "_view_module_version": "1.2.0",
            "_view_name": "LayoutView",
            "align_content": null,
            "align_items": null,
            "align_self": null,
            "border": null,
            "bottom": null,
            "display": null,
            "flex": null,
            "flex_flow": null,
            "grid_area": null,
            "grid_auto_columns": null,
            "grid_auto_flow": null,
            "grid_auto_rows": null,
            "grid_column": null,
            "grid_gap": null,
            "grid_row": null,
            "grid_template_areas": null,
            "grid_template_columns": null,
            "grid_template_rows": null,
            "height": null,
            "justify_content": null,
            "justify_items": null,
            "left": null,
            "margin": null,
            "max_height": null,
            "max_width": null,
            "min_height": null,
            "min_width": null,
            "object_fit": null,
            "object_position": null,
            "order": null,
            "overflow": null,
            "overflow_x": null,
            "overflow_y": null,
            "padding": null,
            "right": null,
            "top": null,
            "visibility": null,
            "width": null
          }
        },
        "c77f1e4ab07a4e0291be53189636963e": {
          "model_module": "@jupyter-widgets/base",
          "model_name": "LayoutModel",
          "model_module_version": "1.2.0",
          "state": {
            "_model_module": "@jupyter-widgets/base",
            "_model_module_version": "1.2.0",
            "_model_name": "LayoutModel",
            "_view_count": null,
            "_view_module": "@jupyter-widgets/base",
            "_view_module_version": "1.2.0",
            "_view_name": "LayoutView",
            "align_content": null,
            "align_items": null,
            "align_self": null,
            "border": null,
            "bottom": null,
            "display": null,
            "flex": null,
            "flex_flow": null,
            "grid_area": null,
            "grid_auto_columns": null,
            "grid_auto_flow": null,
            "grid_auto_rows": null,
            "grid_column": null,
            "grid_gap": null,
            "grid_row": null,
            "grid_template_areas": null,
            "grid_template_columns": null,
            "grid_template_rows": null,
            "height": null,
            "justify_content": null,
            "justify_items": null,
            "left": null,
            "margin": null,
            "max_height": null,
            "max_width": null,
            "min_height": null,
            "min_width": null,
            "object_fit": null,
            "object_position": null,
            "order": null,
            "overflow": null,
            "overflow_x": null,
            "overflow_y": null,
            "padding": null,
            "right": null,
            "top": null,
            "visibility": null,
            "width": null
          }
        },
        "d526ee77526a480e8965cb51278d7a8e": {
          "model_module": "@jupyter-widgets/controls",
          "model_name": "DescriptionStyleModel",
          "model_module_version": "1.5.0",
          "state": {
            "_model_module": "@jupyter-widgets/controls",
            "_model_module_version": "1.5.0",
            "_model_name": "DescriptionStyleModel",
            "_view_count": null,
            "_view_module": "@jupyter-widgets/base",
            "_view_module_version": "1.2.0",
            "_view_name": "StyleView",
            "description_width": ""
          }
        },
        "90216dd22a29431b90a54322b7890dda": {
          "model_module": "@jupyter-widgets/base",
          "model_name": "LayoutModel",
          "model_module_version": "1.2.0",
          "state": {
            "_model_module": "@jupyter-widgets/base",
            "_model_module_version": "1.2.0",
            "_model_name": "LayoutModel",
            "_view_count": null,
            "_view_module": "@jupyter-widgets/base",
            "_view_module_version": "1.2.0",
            "_view_name": "LayoutView",
            "align_content": null,
            "align_items": null,
            "align_self": null,
            "border": null,
            "bottom": null,
            "display": null,
            "flex": null,
            "flex_flow": null,
            "grid_area": null,
            "grid_auto_columns": null,
            "grid_auto_flow": null,
            "grid_auto_rows": null,
            "grid_column": null,
            "grid_gap": null,
            "grid_row": null,
            "grid_template_areas": null,
            "grid_template_columns": null,
            "grid_template_rows": null,
            "height": null,
            "justify_content": null,
            "justify_items": null,
            "left": null,
            "margin": null,
            "max_height": null,
            "max_width": null,
            "min_height": null,
            "min_width": null,
            "object_fit": null,
            "object_position": null,
            "order": null,
            "overflow": null,
            "overflow_x": null,
            "overflow_y": null,
            "padding": null,
            "right": null,
            "top": null,
            "visibility": null,
            "width": null
          }
        },
        "d2b9158d6b224f7e92f362a53e47d8c0": {
          "model_module": "@jupyter-widgets/controls",
          "model_name": "ProgressStyleModel",
          "model_module_version": "1.5.0",
          "state": {
            "_model_module": "@jupyter-widgets/controls",
            "_model_module_version": "1.5.0",
            "_model_name": "ProgressStyleModel",
            "_view_count": null,
            "_view_module": "@jupyter-widgets/base",
            "_view_module_version": "1.2.0",
            "_view_name": "StyleView",
            "bar_color": null,
            "description_width": ""
          }
        },
        "5a16f97645ec449d9153fd73cade7380": {
          "model_module": "@jupyter-widgets/base",
          "model_name": "LayoutModel",
          "model_module_version": "1.2.0",
          "state": {
            "_model_module": "@jupyter-widgets/base",
            "_model_module_version": "1.2.0",
            "_model_name": "LayoutModel",
            "_view_count": null,
            "_view_module": "@jupyter-widgets/base",
            "_view_module_version": "1.2.0",
            "_view_name": "LayoutView",
            "align_content": null,
            "align_items": null,
            "align_self": null,
            "border": null,
            "bottom": null,
            "display": null,
            "flex": null,
            "flex_flow": null,
            "grid_area": null,
            "grid_auto_columns": null,
            "grid_auto_flow": null,
            "grid_auto_rows": null,
            "grid_column": null,
            "grid_gap": null,
            "grid_row": null,
            "grid_template_areas": null,
            "grid_template_columns": null,
            "grid_template_rows": null,
            "height": null,
            "justify_content": null,
            "justify_items": null,
            "left": null,
            "margin": null,
            "max_height": null,
            "max_width": null,
            "min_height": null,
            "min_width": null,
            "object_fit": null,
            "object_position": null,
            "order": null,
            "overflow": null,
            "overflow_x": null,
            "overflow_y": null,
            "padding": null,
            "right": null,
            "top": null,
            "visibility": null,
            "width": null
          }
        },
        "0dc156306ebf48788cb739890c1bbd4d": {
          "model_module": "@jupyter-widgets/controls",
          "model_name": "DescriptionStyleModel",
          "model_module_version": "1.5.0",
          "state": {
            "_model_module": "@jupyter-widgets/controls",
            "_model_module_version": "1.5.0",
            "_model_name": "DescriptionStyleModel",
            "_view_count": null,
            "_view_module": "@jupyter-widgets/base",
            "_view_module_version": "1.2.0",
            "_view_name": "StyleView",
            "description_width": ""
          }
        }
      }
    }
  },
  "cells": [
    {
      "cell_type": "code",
      "source": [
        "!pip install -U spacy[cuda-autodetect]\n",
        "!python -m spacy download en_core_web_trf"
      ],
      "metadata": {
        "id": "NhXz9vBAd11r"
      },
      "execution_count": null,
      "outputs": []
    },
    {
      "cell_type": "code",
      "execution_count": null,
      "metadata": {
        "id": "uqWPsRco1EUH",
        "colab": {
          "base_uri": "https://localhost:8080/"
        },
        "outputId": "fbc67bc4-5668-409c-c6b2-ae351cd4e247"
      },
      "outputs": [
        {
          "output_type": "stream",
          "name": "stdout",
          "text": [
            "Mounted at /content/drive\n"
          ]
        }
      ],
      "source": [
        "from google.colab import drive\n",
        "drive.mount('/content/drive')"
      ]
    },
    {
      "cell_type": "code",
      "source": [
        "import pandas as pd\n",
        "import numpy as np\n",
        "import json\n",
        "from tqdm.auto import tqdm\n",
        "import re\n",
        "import spacy\n",
        "from spacy.matcher import Matcher"
      ],
      "metadata": {
        "id": "237_RY741F50"
      },
      "execution_count": null,
      "outputs": []
    },
    {
      "cell_type": "code",
      "source": [
        "start_file_path = '/content/drive/My Drive/articles'"
      ],
      "metadata": {
        "id": "rfZY7qHE1Had"
      },
      "execution_count": null,
      "outputs": []
    },
    {
      "cell_type": "code",
      "source": [
        "df = pd.read_pickle(f'{start_file_path}/relevant_articles/df_relevant_articles.pkl')"
      ],
      "metadata": {
        "id": "zlEC9Qj01I4N"
      },
      "execution_count": null,
      "outputs": []
    },
    {
      "cell_type": "code",
      "source": [
        "spacy.prefer_gpu()\n",
        "nlp = spacy.load('en_core_web_trf')"
      ],
      "metadata": {
        "id": "otnEwp03eAJO"
      },
      "execution_count": null,
      "outputs": []
    },
    {
      "cell_type": "code",
      "source": [
        "# create rules : taken from https://stackoverflow.com/questions/74528441/detect-passive-or-active-sentence-from-text first answer\n",
        "\n",
        "passive_rules = [\n",
        "    [{'DEP': 'nsubjpass'}, {'DEP': 'aux', 'OP': '*'}, {'DEP': 'auxpass'}, {'TAG': 'VBN'}],\n",
        "    [{'DEP': 'nsubjpass'}, {'DEP': 'aux', 'OP': '*'}, {'DEP': 'auxpass'}, {'TAG': 'VBZ'}],\n",
        "    [{'DEP': 'nsubjpass'}, {'DEP': 'aux', 'OP': '*'}, {'DEP': 'auxpass'}, {'TAG': 'RB'}, {'TAG': 'VBN'}],\n",
        "]\n",
        "\n",
        "active_rules = [\n",
        "    [{'DEP': 'nsubj'}, {'TAG': 'VBD', 'DEP': 'ROOT'}],\n",
        "    [{'DEP': 'nsubj'}, {'TAG': 'VBP'}, {'TAG': 'VBG', 'OP': '!'}],\n",
        "    [{'DEP': 'nsubj'}, {'DEP': 'aux', 'OP': '*'}, {'TAG': 'VB'}],\n",
        "    [{'DEP': 'nsubj'}, {'DEP': 'aux', 'OP': '*'}, {'TAG': 'VBG'}],\n",
        "    [{'DEP': 'nsubj'}, {'TAG': 'RB', 'OP': '*'}, {'TAG': 'VBG'}],\n",
        "    [{'DEP': 'nsubj'}, {'TAG': 'RB', 'OP': '*'}, {'TAG': 'VBZ'}],\n",
        "    [{'DEP': 'nsubj'}, {'TAG': 'RB', 'OP': '+'}, {'TAG': 'VBD'}],\n",
        "]"
      ],
      "metadata": {
        "id": "mhHC1EvReCF3"
      },
      "execution_count": null,
      "outputs": []
    },
    {
      "cell_type": "code",
      "source": [
        "matcher = Matcher(nlp.vocab)  # Init. the matcher with a vocab (note matcher vocab must share same vocab with docs)\n",
        "matcher.add('Passive',  passive_rules)  # Add passive rules to matcher\n",
        "matcher.add('Active', active_rules)  # Add active rules to matcher"
      ],
      "metadata": {
        "id": "cjbKL1GLeDcH"
      },
      "execution_count": null,
      "outputs": []
    },
    {
      "cell_type": "code",
      "source": [
        "df_guardian = df[df['source_domain'] == 'theguardian.com']"
      ],
      "metadata": {
        "id": "xylfoGgbeFKu"
      },
      "execution_count": null,
      "outputs": []
    },
    {
      "cell_type": "code",
      "source": [
        "passive_sents = []\n",
        "active_sents = []\n",
        "\n",
        "skipped_indices = []"
      ],
      "metadata": {
        "id": "0l_w5HqkucBH"
      },
      "execution_count": null,
      "outputs": []
    },
    {
      "cell_type": "code",
      "source": [
        "for i in range(len(df_guardian)):\n",
        "  full_text = df_guardian.iloc[i]['full_text']\n",
        "  length = len(full_text)\n",
        "\n",
        "  if i >= 4007 and length > 17_000:\n",
        "      skipped_indices.append(i)\n",
        "  elif length > 20_000:\n",
        "      skipped_indices.append(i)"
      ],
      "metadata": {
        "id": "qBgblqVd2a3S"
      },
      "execution_count": null,
      "outputs": []
    },
    {
      "cell_type": "code",
      "source": [
        "len(skipped_indices)"
      ],
      "metadata": {
        "colab": {
          "base_uri": "https://localhost:8080/"
        },
        "id": "nCLSnlyC26Lm",
        "outputId": "bce998c5-dfe7-40e7-b113-6dc79b6f0d9e"
      },
      "execution_count": null,
      "outputs": [
        {
          "output_type": "execute_result",
          "data": {
            "text/plain": [
              "386"
            ]
          },
          "metadata": {},
          "execution_count": 11
        }
      ]
    },
    {
      "cell_type": "code",
      "source": [
        "df_guardian = df_guardian.iloc[skipped_indices]\n",
        "\n",
        "for i in tqdm(range(len(df_guardian))):\n",
        "\n",
        "  full_text = df_guardian.iloc[i]['full_text']\n",
        "\n",
        "  entire_doc = nlp(full_text)\n",
        "  text = [sent.text for sent in entire_doc.sents] # create sentences -> split(\".\") doesn't work for things like U.N., U.S. etc.\n",
        "\n",
        "  for sentence in text:\n",
        "      doc = nlp(sentence)  # Process text with spaCy model\n",
        "      matches = matcher(doc)  # Get matches\n",
        "      if len(matches) > 0:\n",
        "          for match_id, start, end in matches:\n",
        "              string_id = nlp.vocab.strings[match_id]\n",
        "              span = doc[start:end]  # the matched span\n",
        "              if string_id == 'Passive':\n",
        "                  passive_sents.append({'sentence':sentence, 'span':span})\n",
        "              elif string_id == 'Active':\n",
        "                  active_sents.append({'sentence':sentence, 'span':span})\n",
        "\n",
        "passive_df = pd.DataFrame(passive_sents)\n",
        "active_df = pd.DataFrame(active_sents)\n",
        "\n",
        "passive_df.to_csv(f'{start_file_path}/active_vs_passive_voice/theguardian_overlength_passive_sentences.csv', index=False)\n",
        "active_df.to_csv(f'{start_file_path}/active_vs_passive_voice/theguardian_overlength_active_sentences.csv', index=False)"
      ],
      "metadata": {
        "colab": {
          "base_uri": "https://localhost:8080/",
          "height": 49,
          "referenced_widgets": [
            "7e683d136c334da5ac87299930c263e7",
            "a6f213698f2547f9a818bf060f0f74a3",
            "23120348f71d4c6b8a105e73a2686250",
            "c77be71271e54ea699febfe988b23e97",
            "d5d0ccc97764443bbf45ab15b219a40f",
            "c77f1e4ab07a4e0291be53189636963e",
            "d526ee77526a480e8965cb51278d7a8e",
            "90216dd22a29431b90a54322b7890dda",
            "d2b9158d6b224f7e92f362a53e47d8c0",
            "5a16f97645ec449d9153fd73cade7380",
            "0dc156306ebf48788cb739890c1bbd4d"
          ]
        },
        "id": "1J6BPrxAeG3y",
        "outputId": "3eb2b991-7479-47b1-a5c6-54ff2dce7bf5"
      },
      "execution_count": null,
      "outputs": [
        {
          "output_type": "display_data",
          "data": {
            "text/plain": [
              "  0%|          | 0/386 [00:00<?, ?it/s]"
            ],
            "application/vnd.jupyter.widget-view+json": {
              "version_major": 2,
              "version_minor": 0,
              "model_id": "7e683d136c334da5ac87299930c263e7"
            }
          },
          "metadata": {}
        }
      ]
    },
    {
      "cell_type": "code",
      "source": [
        "guardianavp_start = f'{start_file_path}/active_vs_passive_voice/theguardian'"
      ],
      "metadata": {
        "id": "d9kLKvrU8jiy"
      },
      "execution_count": null,
      "outputs": []
    },
    {
      "cell_type": "code",
      "source": [
        "# passive sentences\n",
        "p_upto4007 = f'{guardianavp_start}_upto4007_passive_sentences.csv'\n",
        "p_from4007 = f'{guardianavp_start}_from4007_passive_sentences.csv'\n",
        "p_overlength = f'{guardianavp_start}_overlength_passive_sentences.csv'\n",
        "p_fps = [p_upto4007, p_from4007, p_overlength]\n",
        "\n",
        "# active sentences\n",
        "a_upto4007 = f'{guardianavp_start}_upto4007_active_sentences.csv'\n",
        "a_from4007 = f'{guardianavp_start}_from4007_active_sentences.csv'\n",
        "a_overlength = f'{guardianavp_start}_overlength_active_sentences.csv'\n",
        "a_fps = [a_upto4007, a_from4007, a_overlength]"
      ],
      "metadata": {
        "id": "f-MHuTtk8w5g"
      },
      "execution_count": null,
      "outputs": []
    },
    {
      "cell_type": "code",
      "source": [
        "passive_df = pd.concat([pd.read_csv(fp) for fp in p_fps])\n",
        "active_df = pd.concat([pd.read_csv(fp) for fp in a_fps])"
      ],
      "metadata": {
        "id": "MqkVS1jQ9eAk"
      },
      "execution_count": null,
      "outputs": []
    },
    {
      "cell_type": "code",
      "source": [
        "len(passive_df), len(active_df)"
      ],
      "metadata": {
        "colab": {
          "base_uri": "https://localhost:8080/"
        },
        "id": "uVL5sk8R9iBf",
        "outputId": "a9d329cf-79a4-4e33-d235-ae7a286cb177"
      },
      "execution_count": null,
      "outputs": [
        {
          "output_type": "execute_result",
          "data": {
            "text/plain": [
              "(52468, 335085)"
            ]
          },
          "metadata": {},
          "execution_count": 8
        }
      ]
    },
    {
      "cell_type": "code",
      "source": [
        "passive_df.to_csv(f'{start_file_path}/active_vs_passive_voice/theguardian_passive_sentences.csv', index=False)\n",
        "active_df.to_csv(f'{start_file_path}/active_vs_passive_voice/theguardian_active_sentences.csv', index=False)"
      ],
      "metadata": {
        "id": "Lu82kUE49nnq"
      },
      "execution_count": null,
      "outputs": []
    }
  ]
}