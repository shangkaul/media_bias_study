{
  "nbformat": 4,
  "nbformat_minor": 0,
  "metadata": {
    "colab": {
      "provenance": [],
      "authorship_tag": "ABX9TyNe5n+zHuXfWWzAD24MYIM5"
    },
    "kernelspec": {
      "name": "python3",
      "display_name": "Python 3"
    },
    "language_info": {
      "name": "python"
    }
  },
  "cells": [
    {
      "cell_type": "code",
      "execution_count": null,
      "metadata": {
        "colab": {
          "base_uri": "https://localhost:8080/"
        },
        "id": "opo9MLBqSCJg",
        "outputId": "307c1c94-d0f2-4da4-dcf3-5d2d27d64b15"
      },
      "outputs": [
        {
          "output_type": "stream",
          "name": "stdout",
          "text": [
            "Mounted at /content/drive\n"
          ]
        }
      ],
      "source": [
        "from google.colab import drive\n",
        "drive.mount('/content/drive')"
      ]
    },
    {
      "cell_type": "code",
      "source": [
        "import pandas as pd\n",
        "import numpy as np\n",
        "import matplotlib.pyplot as plt\n",
        "from collections import defaultdict"
      ],
      "metadata": {
        "id": "DkPZAIpNSITQ"
      },
      "execution_count": null,
      "outputs": []
    },
    {
      "cell_type": "code",
      "source": [
        "start_file_path = '/content/drive/My Drive/articles/relevant_articles'"
      ],
      "metadata": {
        "id": "mNlFR2agSSEi"
      },
      "execution_count": null,
      "outputs": []
    },
    {
      "cell_type": "code",
      "source": [
        "df = pd.read_pickle(f'{start_file_path}/df_relevant_articles.pkl')"
      ],
      "metadata": {
        "id": "GRrov9x_SXkd"
      },
      "execution_count": null,
      "outputs": []
    },
    {
      "cell_type": "code",
      "source": [
        "df.columns"
      ],
      "metadata": {
        "colab": {
          "base_uri": "https://localhost:8080/"
        },
        "id": "-IVUDvPYZqoC",
        "outputId": "6f109e15-4ba0-417a-ee7b-9ae4c2c3f839"
      },
      "execution_count": null,
      "outputs": [
        {
          "output_type": "execute_result",
          "data": {
            "text/plain": [
              "Index(['title', 'text', 'url', 'source_domain', 'date_published', 'authors',\n",
              "       'matched_keywords', 'description', 'full_text'],\n",
              "      dtype='object')"
            ]
          },
          "metadata": {},
          "execution_count": 5
        }
      ]
    },
    {
      "cell_type": "code",
      "source": [
        "len(df) / 78768 * 100"
      ],
      "metadata": {
        "colab": {
          "base_uri": "https://localhost:8080/"
        },
        "id": "D5Y-_SoaS-ps",
        "outputId": "91c73ee9-a8f0-4bb1-d26c-1b9084f0fdbd"
      },
      "execution_count": null,
      "outputs": [
        {
          "output_type": "execute_result",
          "data": {
            "text/plain": [
              "30.991011578305912"
            ]
          },
          "metadata": {},
          "execution_count": 6
        }
      ]
    },
    {
      "cell_type": "code",
      "source": [
        "counts_per_newssite = {}\n",
        "\n",
        "for source_domain in df['source_domain'].unique():\n",
        "  counts_per_newssite[source_domain] = len(df[df['source_domain'] == source_domain])"
      ],
      "metadata": {
        "id": "kyZxDS9qZkra"
      },
      "execution_count": null,
      "outputs": []
    },
    {
      "cell_type": "code",
      "source": [
        "counts_per_newssite"
      ],
      "metadata": {
        "colab": {
          "base_uri": "https://localhost:8080/"
        },
        "id": "1rrj62MnZzCV",
        "outputId": "c71c57a1-c8f6-4cbf-f5b2-44efed3bf2f8"
      },
      "execution_count": null,
      "outputs": [
        {
          "output_type": "execute_result",
          "data": {
            "text/plain": [
              "{'apnews.com': 1903,\n",
              " 'bbc.com': 1317,\n",
              " 'cnn.com': 1172,\n",
              " 'dailymail.co.uk': 1697,\n",
              " 'foxnews.com': 1172,\n",
              " 'theguardian.com': 5543,\n",
              " 'hindustantimes.com': 2187,\n",
              " 'independent.co.uk': 3053,\n",
              " 'india.com': 222,\n",
              " 'indianexpress.com': 1380,\n",
              " 'nbcnews.com': 530,\n",
              " 'news18.com': 1923,\n",
              " 'newsweek.com': 837,\n",
              " 'nypost.com': 904,\n",
              " 'usatoday.com': 571}"
            ]
          },
          "metadata": {},
          "execution_count": 8
        }
      ]
    },
    {
      "cell_type": "code",
      "source": [
        "raw_counts = {\n",
        "    \"apnews.com\": 6536,\n",
        "    \"bbc.com\": 4934,\n",
        "    \"cnn.com\": 3108,\n",
        "    \"dailymail.co.uk\": 9562,\n",
        "    \"foxnews.com\": 9324,\n",
        "    \"theguardian.com\": 8148,\n",
        "    \"hindustantimes.com\": 4790,\n",
        "    \"independent.co.uk\": 9240,\n",
        "    \"india.com\": 743,\n",
        "    \"indianexpress.com\": 4331,\n",
        "    \"nbcnews.com\": 2353,\n",
        "    \"news18.com\": 3196,\n",
        "    \"newsweek.com\": 5722,\n",
        "    \"nypost.com\": 4125,\n",
        "    \"usatoday.com\": 2656\n",
        "}"
      ],
      "metadata": {
        "id": "1z2dHZLFZ13G"
      },
      "execution_count": null,
      "outputs": []
    },
    {
      "cell_type": "code",
      "source": [
        "after_preprocessing = {\n",
        "    \"apnews.com\": 5953,\n",
        "    \"bbc.com\": 3586,\n",
        "    \"cnn.com\": 2927,\n",
        "    \"dailymail.co.uk\": 9188,\n",
        "    \"foxnews.com\": 9030,\n",
        "    \"theguardian.com\": 8147,\n",
        "    \"hindustantimes.com\": 4587,\n",
        "    \"independent.co.uk\": 9131,\n",
        "    \"india.com\" : 415,\n",
        "    \"indianexpress.com\": 3761,\n",
        "    \"nbcnews.com\": 2084,\n",
        "    \"news18.com\": 3191,\n",
        "    \"newsweek.com\": 4860,\n",
        "    \"nypost.com\": 4118,\n",
        "    \"usatoday.com\": 2626\n",
        "}"
      ],
      "metadata": {
        "id": "zkdU7a2qaAV6"
      },
      "execution_count": null,
      "outputs": []
    },
    {
      "cell_type": "code",
      "source": [
        "df_all = pd.DataFrame({\n",
        "    'original': raw_counts,\n",
        "    'after preprocessing': after_preprocessing,\n",
        "    'after classification' : counts_per_newssite\n",
        "})\n"
      ],
      "metadata": {
        "id": "y6W5xw2ham9l"
      },
      "execution_count": null,
      "outputs": []
    },
    {
      "cell_type": "code",
      "source": [
        "df_all.reset_index(inplace=True)"
      ],
      "metadata": {
        "id": "4gpyz_eXblMX"
      },
      "execution_count": null,
      "outputs": []
    },
    {
      "cell_type": "code",
      "source": [
        "df_all.rename(columns={'index': 'newssite'}, inplace=True)"
      ],
      "metadata": {
        "id": "s1GeoPMubqCs"
      },
      "execution_count": null,
      "outputs": []
    },
    {
      "cell_type": "code",
      "source": [
        "newssite_formatting = {\n",
        "            'apnews.com': 'AP News',\n",
        "            'bbc.com' : 'BBC',\n",
        "            'cnn.com' : 'CNN',\n",
        "            'foxnews.com' : 'Fox News',\n",
        "            'dailymail.co.uk' : 'Dailymail',\n",
        "            'theguardian.com' : 'Guardian',\n",
        "            'hindustantimes.com' : 'Hindustan Times',\n",
        "            'india.com' : 'India',\n",
        "            'independent.co.uk' : 'Independent',\n",
        "            'indianexpress.com' : 'Indian Express',\n",
        "            'news18.com': 'News 18',\n",
        "            'nbcnews.com' : 'NBC',\n",
        "            'nypost.com' : 'NY Post',\n",
        "            'newsweek.com' : 'Newsweek',\n",
        "            'usatoday.com' : 'USA Today'\n",
        "        }"
      ],
      "metadata": {
        "id": "zMEJFatBb0Os"
      },
      "execution_count": null,
      "outputs": []
    },
    {
      "cell_type": "code",
      "source": [
        "df_all['newssite'] = df_all['newssite'].map(newssite_formatting)\n"
      ],
      "metadata": {
        "id": "ZilnZythbuTV"
      },
      "execution_count": null,
      "outputs": []
    },
    {
      "cell_type": "code",
      "source": [
        "df_all.rename(columns = {'original':'Original', 'after preprocessing':'After Pre-processing', 'after classification':'After Classification'}, inplace=True)"
      ],
      "metadata": {
        "id": "qs986V_cc5dm"
      },
      "execution_count": null,
      "outputs": []
    },
    {
      "cell_type": "code",
      "source": [
        "df_all.columns"
      ],
      "metadata": {
        "colab": {
          "base_uri": "https://localhost:8080/"
        },
        "id": "N4ivEXuNI9PC",
        "outputId": "abad58f9-64a1-4a85-ba36-5d068516a930"
      },
      "execution_count": null,
      "outputs": [
        {
          "output_type": "execute_result",
          "data": {
            "text/plain": [
              "Index(['newssite', 'Original', 'After Pre-processing', 'After Classification'], dtype='object')"
            ]
          },
          "metadata": {},
          "execution_count": 17
        }
      ]
    },
    {
      "cell_type": "code",
      "source": [
        "df_plot = df_all[['newssite', 'Original', 'After Classification']]\n",
        "\n",
        "df_plot['Filtered Out'] = df_plot['Original'] - df_plot['After Classification']\n",
        "\n",
        "df_plot.rename(columns={'After Classification': 'Remaining'}, inplace=True)"
      ],
      "metadata": {
        "id": "n1dQzFO5NKJA"
      },
      "execution_count": null,
      "outputs": []
    },
    {
      "cell_type": "code",
      "source": [
        "ax = df_plot[['newssite', 'Remaining', 'Filtered Out']].plot(x='newssite', kind='bar', stacked=True, xlabel='News site', ylabel='Number of articles', color=['indigo', 'grey'], figsize=(10, 10), title=\"Number of articles per news site\")\n",
        "ax.set_xticklabels(df_plot['newssite'], rotation=45, ha=\"right\")\n",
        "ax.figure.savefig('articlesafterclassification.png', bbox_inches=\"tight\")"
      ],
      "metadata": {
        "colab": {
          "base_uri": "https://localhost:8080/",
          "height": 950
        },
        "id": "ydZ6CZwzcMUf",
        "outputId": "5ec1e812-441d-4e79-fde3-4b80cf670261"
      },
      "execution_count": null,
      "outputs": [
        {
          "output_type": "display_data",
          "data": {
            "text/plain": [
              "<Figure size 1000x1000 with 1 Axes>"
            ],
            "image/png": "[encoded data removed]"
          },
          "metadata": {}
        }
      ]
    },
    {
      "cell_type": "code",
      "source": [
        "df_all['Percentage of Articles'] = df_all['After Classification'] / df_all['Original'] * 100"
      ],
      "metadata": {
        "id": "R3Dy5gTieG8-"
      },
      "execution_count": null,
      "outputs": []
    },
    {
      "cell_type": "code",
      "source": [
        "def newssite_to_region(newssite):\n",
        "      if newssite in ['Dailymail', 'Independent', 'Guardian', 'BBC']:\n",
        "        return 'UK'\n",
        "      elif newssite in ['Hindustan Times', 'India', 'Indian Express', 'News 18']:\n",
        "        return 'India'\n",
        "      else:\n",
        "        return 'US'\n",
        "\n",
        "df_all['Region'] = df_all['newssite'].apply(newssite_to_region)"
      ],
      "metadata": {
        "id": "YV3FylBXejEJ"
      },
      "execution_count": null,
      "outputs": []
    },
    {
      "cell_type": "code",
      "source": [
        "df_all['Percentage filtered out'] = 100 - df_all['Percentage of Articles']"
      ],
      "metadata": {
        "id": "YHrDqKYxfxnK"
      },
      "execution_count": null,
      "outputs": []
    },
    {
      "cell_type": "code",
      "source": [
        "df_all[['newssite', 'Original', 'After Classification', 'Percentage filtered out', 'Region']].sort_values(by='Percentage filtered out', ascending=False)"
      ],
      "metadata": {
        "colab": {
          "base_uri": "https://localhost:8080/",
          "height": 519
        },
        "id": "gdgTwja1eMxf",
        "outputId": "4e6e3a33-fd0a-4bf9-95a7-be8364a52d74"
      },
      "execution_count": null,
      "outputs": [
        {
          "output_type": "execute_result",
          "data": {
            "text/plain": [
              "           newssite  Original  After Classification  Percentage filtered out  \\\n",
              "4          Fox News      9324                  1172                87.430287   \n",
              "12         Newsweek      5722                   837                85.372247   \n",
              "3         Dailymail      9562                  1697                82.252667   \n",
              "14        USA Today      2656                   571                78.501506   \n",
              "13          NY Post      4125                   904                78.084848   \n",
              "10              NBC      2353                   530                77.475563   \n",
              "1               BBC      4934                  1317                73.307661   \n",
              "0           AP News      6536                  1903                70.884333   \n",
              "8             India       743                   222                70.121131   \n",
              "9    Indian Express      4331                  1380                68.136689   \n",
              "7       Independent      9240                  3053                66.958874   \n",
              "2               CNN      3108                  1172                62.290862   \n",
              "6   Hindustan Times      4790                  2187                54.342380   \n",
              "11          News 18      3196                  1923                39.831039   \n",
              "5          Guardian      8148                  5543                31.971036   \n",
              "\n",
              "   Region  \n",
              "4      US  \n",
              "12     US  \n",
              "3      UK  \n",
              "14     US  \n",
              "13     US  \n",
              "10     US  \n",
              "1      UK  \n",
              "0      US  \n",
              "8   India  \n",
              "9   India  \n",
              "7      UK  \n",
              "2      US  \n",
              "6   India  \n",
              "11  India  \n",
              "5      UK  "
            ],
            "text/html": [
              "\n",
              "  <div id=\"df-67e4b043-cae1-49e0-b8f8-499c0f90ff16\" class=\"colab-df-container\">\n",
              "    <div>\n",
              "<style scoped>\n",
              "    .dataframe tbody tr th:only-of-type {\n",
              "        vertical-align: middle;\n",
              "    }\n",
              "\n",
              "    .dataframe tbody tr th {\n",
              "        vertical-align: top;\n",
              "    }\n",
              "\n",
              "    .dataframe thead th {\n",
              "        text-align: right;\n",
              "    }\n",
              "</style>\n",
              "<table border=\"1\" class=\"dataframe\">\n",
              "  <thead>\n",
              "    <tr style=\"text-align: right;\">\n",
              "      <th></th>\n",
              "      <th>newssite</th>\n",
              "      <th>Original</th>\n",
              "      <th>After Classification</th>\n",
              "      <th>Percentage filtered out</th>\n",
              "      <th>Region</th>\n",
              "    </tr>\n",
              "  </thead>\n",
              "  <tbody>\n",
              "    <tr>\n",
              "      <th>4</th>\n",
              "      <td>Fox News</td>\n",
              "      <td>9324</td>\n",
              "      <td>1172</td>\n",
              "      <td>87.430287</td>\n",
              "      <td>US</td>\n",
              "    </tr>\n",
              "    <tr>\n",
              "      <th>12</th>\n",
              "      <td>Newsweek</td>\n",
              "      <td>5722</td>\n",
              "      <td>837</td>\n",
              "      <td>85.372247</td>\n",
              "      <td>US</td>\n",
              "    </tr>\n",
              "    <tr>\n",
              "      <th>3</th>\n",
              "      <td>Dailymail</td>\n",
              "      <td>9562</td>\n",
              "      <td>1697</td>\n",
              "      <td>82.252667</td>\n",
              "      <td>UK</td>\n",
              "    </tr>\n",
              "    <tr>\n",
              "      <th>14</th>\n",
              "      <td>USA Today</td>\n",
              "      <td>2656</td>\n",
              "      <td>571</td>\n",
              "      <td>78.501506</td>\n",
              "      <td>US</td>\n",
              "    </tr>\n",
              "    <tr>\n",
              "      <th>13</th>\n",
              "      <td>NY Post</td>\n",
              "      <td>4125</td>\n",
              "      <td>904</td>\n",
              "      <td>78.084848</td>\n",
              "      <td>US</td>\n",
              "    </tr>\n",
              "    <tr>\n",
              "      <th>10</th>\n",
              "      <td>NBC</td>\n",
              "      <td>2353</td>\n",
              "      <td>530</td>\n",
              "      <td>77.475563</td>\n",
              "      <td>US</td>\n",
              "    </tr>\n",
              "    <tr>\n",
              "      <th>1</th>\n",
              "      <td>BBC</td>\n",
              "      <td>4934</td>\n",
              "      <td>1317</td>\n",
              "      <td>73.307661</td>\n",
              "      <td>UK</td>\n",
              "    </tr>\n",
              "    <tr>\n",
              "      <th>0</th>\n",
              "      <td>AP News</td>\n",
              "      <td>6536</td>\n",
              "      <td>1903</td>\n",
              "      <td>70.884333</td>\n",
              "      <td>US</td>\n",
              "    </tr>\n",
              "    <tr>\n",
              "      <th>8</th>\n",
              "      <td>India</td>\n",
              "      <td>743</td>\n",
              "      <td>222</td>\n",
              "      <td>70.121131</td>\n",
              "      <td>India</td>\n",
              "    </tr>\n",
              "    <tr>\n",
              "      <th>9</th>\n",
              "      <td>Indian Express</td>\n",
              "      <td>4331</td>\n",
              "      <td>1380</td>\n",
              "      <td>68.136689</td>\n",
              "      <td>India</td>\n",
              "    </tr>\n",
              "    <tr>\n",
              "      <th>7</th>\n",
              "      <td>Independent</td>\n",
              "      <td>9240</td>\n",
              "      <td>3053</td>\n",
              "      <td>66.958874</td>\n",
              "      <td>UK</td>\n",
              "    </tr>\n",
              "    <tr>\n",
              "      <th>2</th>\n",
              "      <td>CNN</td>\n",
              "      <td>3108</td>\n",
              "      <td>1172</td>\n",
              "      <td>62.290862</td>\n",
              "      <td>US</td>\n",
              "    </tr>\n",
              "    <tr>\n",
              "      <th>6</th>\n",
              "      <td>Hindustan Times</td>\n",
              "      <td>4790</td>\n",
              "      <td>2187</td>\n",
              "      <td>54.342380</td>\n",
              "      <td>India</td>\n",
              "    </tr>\n",
              "    <tr>\n",
              "      <th>11</th>\n",
              "      <td>News 18</td>\n",
              "      <td>3196</td>\n",
              "      <td>1923</td>\n",
              "      <td>39.831039</td>\n",
              "      <td>India</td>\n",
              "    </tr>\n",
              "    <tr>\n",
              "      <th>5</th>\n",
              "      <td>Guardian</td>\n",
              "      <td>8148</td>\n",
              "      <td>5543</td>\n",
              "      <td>31.971036</td>\n",
              "      <td>UK</td>\n",
              "    </tr>\n",
              "  </tbody>\n",
              "</table>\n",
              "</div>\n",
              "    <div class=\"colab-df-buttons\">\n",
              "\n",
              "  <div class=\"colab-df-container\">\n",
              "    <button class=\"colab-df-convert\" onclick=\"convertToInteractive('df-67e4b043-cae1-49e0-b8f8-499c0f90ff16')\"\n",
              "            title=\"Convert this dataframe to an interactive table.\"\n",
              "            style=\"display:none;\">\n",
              "\n",
              "  <svg xmlns=\"http://www.w3.org/2000/svg\" height=\"24px\" viewBox=\"0 -960 960 960\">\n",
              "    <path d=\"M120-120v-720h720v720H120Zm60-500h600v-160H180v160Zm220 220h160v-160H400v160Zm0 220h160v-160H400v160ZM180-400h160v-160H180v160Zm440 0h160v-160H620v160ZM180-180h160v-160H180v160Zm440 0h160v-160H620v160Z\"/>\n",
              "  </svg>\n",
              "    </button>\n",
              "\n",
              "  <style>\n",
              "    .colab-df-container {\n",
              "      display:flex;\n",
              "      gap: 12px;\n",
              "    }\n",
              "\n",
              "    .colab-df-convert {\n",
              "      background-color: #E8F0FE;\n",
              "      border: none;\n",
              "      border-radius: 50%;\n",
              "      cursor: pointer;\n",
              "      display: none;\n",
              "      fill: #1967D2;\n",
              "      height: 32px;\n",
              "      padding: 0 0 0 0;\n",
              "      width: 32px;\n",
              "    }\n",
              "\n",
              "    .colab-df-convert:hover {\n",
              "      background-color: #E2EBFA;\n",
              "      box-shadow: 0px 1px 2px rgba(60, 64, 67, 0.3), 0px 1px 3px 1px rgba(60, 64, 67, 0.15);\n",
              "      fill: #174EA6;\n",
              "    }\n",
              "\n",
              "    .colab-df-buttons div {\n",
              "      margin-bottom: 4px;\n",
              "    }\n",
              "\n",
              "    [theme=dark] .colab-df-convert {\n",
              "      background-color: #3B4455;\n",
              "      fill: #D2E3FC;\n",
              "    }\n",
              "\n",
              "    [theme=dark] .colab-df-convert:hover {\n",
              "      background-color: #434B5C;\n",
              "      box-shadow: 0px 1px 3px 1px rgba(0, 0, 0, 0.15);\n",
              "      filter: drop-shadow(0px 1px 2px rgba(0, 0, 0, 0.3));\n",
              "      fill: #FFFFFF;\n",
              "    }\n",
              "  </style>\n",
              "\n",
              "    <script>\n",
              "      const buttonEl =\n",
              "        document.querySelector('#df-67e4b043-cae1-49e0-b8f8-499c0f90ff16 button.colab-df-convert');\n",
              "      buttonEl.style.display =\n",
              "        google.colab.kernel.accessAllowed ? 'block' : 'none';\n",
              "\n",
              "      async function convertToInteractive(key) {\n",
              "        const element = document.querySelector('#df-67e4b043-cae1-49e0-b8f8-499c0f90ff16');\n",
              "        const dataTable =\n",
              "          await google.colab.kernel.invokeFunction('convertToInteractive',\n",
              "                                                    [key], {});\n",
              "        if (!dataTable) return;\n",
              "\n",
              "        const docLinkHtml = 'Like what you see? Visit the ' +\n",
              "          '<a target=\"_blank\" href=https://colab.research.google.com/notebooks/data_table.ipynb>data table notebook</a>'\n",
              "          + ' to learn more about interactive tables.';\n",
              "        element.innerHTML = '';\n",
              "        dataTable['output_type'] = 'display_data';\n",
              "        await google.colab.output.renderOutput(dataTable, element);\n",
              "        const docLink = document.createElement('div');\n",
              "        docLink.innerHTML = docLinkHtml;\n",
              "        element.appendChild(docLink);\n",
              "      }\n",
              "    </script>\n",
              "  </div>\n",
              "\n",
              "\n",
              "<div id=\"df-46130511-d4b4-47b2-924a-12f17e79df6d\">\n",
              "  <button class=\"colab-df-quickchart\" onclick=\"quickchart('df-46130511-d4b4-47b2-924a-12f17e79df6d')\"\n",
              "            title=\"Suggest charts\"\n",
              "            style=\"display:none;\">\n",
              "\n",
              "<svg xmlns=\"http://www.w3.org/2000/svg\" height=\"24px\"viewBox=\"0 0 24 24\"\n",
              "     width=\"24px\">\n",
              "    <g>\n",
              "        <path d=\"M19 3H5c-1.1 0-2 .9-2 2v14c0 1.1.9 2 2 2h14c1.1 0 2-.9 2-2V5c0-1.1-.9-2-2-2zM9 17H7v-7h2v7zm4 0h-2V7h2v10zm4 0h-2v-4h2v4z\"/>\n",
              "    </g>\n",
              "</svg>\n",
              "  </button>\n",
              "\n",
              "<style>\n",
              "  .colab-df-quickchart {\n",
              "      --bg-color: #E8F0FE;\n",
              "      --fill-color: #1967D2;\n",
              "      --hover-bg-color: #E2EBFA;\n",
              "      --hover-fill-color: #174EA6;\n",
              "      --disabled-fill-color: #AAA;\n",
              "      --disabled-bg-color: #DDD;\n",
              "  }\n",
              "\n",
              "  [theme=dark] .colab-df-quickchart {\n",
              "      --bg-color: #3B4455;\n",
              "      --fill-color: #D2E3FC;\n",
              "      --hover-bg-color: #434B5C;\n",
              "      --hover-fill-color: #FFFFFF;\n",
              "      --disabled-bg-color: #3B4455;\n",
              "      --disabled-fill-color: #666;\n",
              "  }\n",
              "\n",
              "  .colab-df-quickchart {\n",
              "    background-color: var(--bg-color);\n",
              "    border: none;\n",
              "    border-radius: 50%;\n",
              "    cursor: pointer;\n",
              "    display: none;\n",
              "    fill: var(--fill-color);\n",
              "    height: 32px;\n",
              "    padding: 0;\n",
              "    width: 32px;\n",
              "  }\n",
              "\n",
              "  .colab-df-quickchart:hover {\n",
              "    background-color: var(--hover-bg-color);\n",
              "    box-shadow: 0 1px 2px rgba(60, 64, 67, 0.3), 0 1px 3px 1px rgba(60, 64, 67, 0.15);\n",
              "    fill: var(--button-hover-fill-color);\n",
              "  }\n",
              "\n",
              "  .colab-df-quickchart-complete:disabled,\n",
              "  .colab-df-quickchart-complete:disabled:hover {\n",
              "    background-color: var(--disabled-bg-color);\n",
              "    fill: var(--disabled-fill-color);\n",
              "    box-shadow: none;\n",
              "  }\n",
              "\n",
              "  .colab-df-spinner {\n",
              "    border: 2px solid var(--fill-color);\n",
              "    border-color: transparent;\n",
              "    border-bottom-color: var(--fill-color);\n",
              "    animation:\n",
              "      spin 1s steps(1) infinite;\n",
              "  }\n",
              "\n",
              "  @keyframes spin {\n",
              "    0% {\n",
              "      border-color: transparent;\n",
              "      border-bottom-color: var(--fill-color);\n",
              "      border-left-color: var(--fill-color);\n",
              "    }\n",
              "    20% {\n",
              "      border-color: transparent;\n",
              "      border-left-color: var(--fill-color);\n",
              "      border-top-color: var(--fill-color);\n",
              "    }\n",
              "    30% {\n",
              "      border-color: transparent;\n",
              "      border-left-color: var(--fill-color);\n",
              "      border-top-color: var(--fill-color);\n",
              "      border-right-color: var(--fill-color);\n",
              "    }\n",
              "    40% {\n",
              "      border-color: transparent;\n",
              "      border-right-color: var(--fill-color);\n",
              "      border-top-color: var(--fill-color);\n",
              "    }\n",
              "    60% {\n",
              "      border-color: transparent;\n",
              "      border-right-color: var(--fill-color);\n",
              "    }\n",
              "    80% {\n",
              "      border-color: transparent;\n",
              "      border-right-color: var(--fill-color);\n",
              "      border-bottom-color: var(--fill-color);\n",
              "    }\n",
              "    90% {\n",
              "      border-color: transparent;\n",
              "      border-bottom-color: var(--fill-color);\n",
              "    }\n",
              "  }\n",
              "</style>\n",
              "\n",
              "  <script>\n",
              "    async function quickchart(key) {\n",
              "      const quickchartButtonEl =\n",
              "        document.querySelector('#' + key + ' button');\n",
              "      quickchartButtonEl.disabled = true;  // To prevent multiple clicks.\n",
              "      quickchartButtonEl.classList.add('colab-df-spinner');\n",
              "      try {\n",
              "        const charts = await google.colab.kernel.invokeFunction(\n",
              "            'suggestCharts', [key], {});\n",
              "      } catch (error) {\n",
              "        console.error('Error during call to suggestCharts:', error);\n",
              "      }\n",
              "      quickchartButtonEl.classList.remove('colab-df-spinner');\n",
              "      quickchartButtonEl.classList.add('colab-df-quickchart-complete');\n",
              "    }\n",
              "    (() => {\n",
              "      let quickchartButtonEl =\n",
              "        document.querySelector('#df-46130511-d4b4-47b2-924a-12f17e79df6d button');\n",
              "      quickchartButtonEl.style.display =\n",
              "        google.colab.kernel.accessAllowed ? 'block' : 'none';\n",
              "    })();\n",
              "  </script>\n",
              "</div>\n",
              "\n",
              "    </div>\n",
              "  </div>\n"
            ],
            "application/vnd.google.colaboratory.intrinsic+json": {
              "type": "dataframe",
              "summary": "{\n  \"name\": \"df_all[['newssite', 'Original', 'After Classification', 'Percentage filtered out', 'Region']]\",\n  \"rows\": 15,\n  \"fields\": [\n    {\n      \"column\": \"newssite\",\n      \"properties\": {\n        \"dtype\": \"string\",\n        \"num_unique_values\": 15,\n        \"samples\": [\n          \"Indian Express\",\n          \"CNN\",\n          \"Fox News\"\n        ],\n        \"semantic_type\": \"\",\n        \"description\": \"\"\n      }\n    },\n    {\n      \"column\": \"Original\",\n      \"properties\": {\n        \"dtype\": \"number\",\n        \"std\": 2778,\n        \"min\": 743,\n        \"max\": 9562,\n        \"num_unique_values\": 15,\n        \"samples\": [\n          4331,\n          3108,\n          9324\n        ],\n        \"semantic_type\": \"\",\n        \"description\": \"\"\n      }\n    },\n    {\n      \"column\": \"After Classification\",\n      \"properties\": {\n        \"dtype\": \"number\",\n        \"std\": 1305,\n        \"min\": 222,\n        \"max\": 5543,\n        \"num_unique_values\": 14,\n        \"samples\": [\n          1380,\n          2187,\n          1172\n        ],\n        \"semantic_type\": \"\",\n        \"description\": \"\"\n      }\n    },\n    {\n      \"column\": \"Percentage filtered out\",\n      \"properties\": {\n        \"dtype\": \"number\",\n        \"std\": 15.887562768012835,\n        \"min\": 31.971035837015222,\n        \"max\": 87.43028743028744,\n        \"num_unique_values\": 15,\n        \"samples\": [\n          68.13668898637728,\n          62.29086229086229,\n          87.43028743028744\n        ],\n        \"semantic_type\": \"\",\n        \"description\": \"\"\n      }\n    },\n    {\n      \"column\": \"Region\",\n      \"properties\": {\n        \"dtype\": \"category\",\n        \"num_unique_values\": 3,\n        \"samples\": [\n          \"US\",\n          \"UK\",\n          \"India\"\n        ],\n        \"semantic_type\": \"\",\n        \"description\": \"\"\n      }\n    }\n  ]\n}"
            }
          },
          "metadata": {},
          "execution_count": 59
        }
      ]
    },
    {
      "cell_type": "code",
      "source": [
        "month_tally = defaultdict(int)\n",
        "region_month_tally = defaultdict(lambda: defaultdict(int))\n",
        "\n",
        "def get_region(newssite):\n",
        "   if newssite in ['dailymail.co.uk', 'independent.co.uk', 'theguardian.com', 'bbc.com']:\n",
        "        return 'UK'\n",
        "   elif newssite in ['hindustantimes.com', 'india.com', 'indianexpress.com', 'news18.com']:\n",
        "        return 'India'\n",
        "   else:\n",
        "        return 'US'\n",
        "\n",
        "for _, article in df.iterrows():\n",
        "  date = article['date_published']\n",
        "  month_year = \"-\".join(date.split(\"-\")[0:2])\n",
        "  month_tally[month_year] += 1\n",
        "  region = get_region(article['source_domain'])\n",
        "  region_month_tally[region][month_year] += 1\n"
      ],
      "metadata": {
        "id": "QTP3yP3oijMS"
      },
      "execution_count": null,
      "outputs": []
    },
    {
      "cell_type": "code",
      "source": [
        "date_df = pd.DataFrame(list(month_tally.items()), columns=[\"Date\", \"Count\"])\n",
        "date_df.sort_values(by='Date', inplace=True)\n",
        "date_df.reset_index(drop=True, inplace=True)"
      ],
      "metadata": {
        "id": "a8IiF1ILjQfv"
      },
      "execution_count": null,
      "outputs": []
    },
    {
      "cell_type": "code",
      "source": [
        "date_df_us = pd.DataFrame(list(region_month_tally['US'].items()), columns=[\"Date\", \"Count\"])\n",
        "date_df_us.sort_values(by='Date', inplace=True)\n",
        "date_df_us.reset_index(drop=True, inplace=True)\n",
        "date_df_uk = pd.DataFrame(list(region_month_tally['UK'].items()), columns=[\"Date\", \"Count\"])\n",
        "date_df_uk.sort_values(by='Date', inplace=True)\n",
        "date_df_uk.reset_index(drop=True, inplace=True)\n",
        "date_df_india = pd.DataFrame(list(region_month_tally['India'].items()), columns=[\"Date\", \"Count\"])\n",
        "date_df_india.sort_values(by='Date', inplace=True)\n",
        "date_df_india.reset_index(drop=True, inplace=True)"
      ],
      "metadata": {
        "id": "dEauJdEkjukc"
      },
      "execution_count": null,
      "outputs": []
    },
    {
      "cell_type": "code",
      "source": [],
      "metadata": {
        "id": "iQXnpOULj8Mp"
      },
      "execution_count": null,
      "outputs": []
    },
    {
      "cell_type": "code",
      "source": [
        "plt.figure(figsize=(10,6))\n",
        "plt.plot(date_df_us['Date'], date_df_us['Count'], marker='o', color='royalblue', label=\"US\")\n",
        "plt.plot(date_df_uk['Date'], date_df_uk['Count'], marker='o', color='orange', label=\"UK\")\n",
        "plt.plot(date_df_india['Date'], date_df_india['Count'], marker='o', color='purple', label=\"India\")\n",
        "plt.plot(date_df['Date'], date_df['Count'], marker='o', color='red', label=\"All Regions\")\n",
        "plt.legend(loc=\"upper right\")\n",
        "plt.title('Number of articles per month')\n",
        "plt.xlabel('Date')\n",
        "plt.ylabel('Number of articles')\n",
        "plt.xticks(rotation=45)\n",
        "plt.tight_layout()\n",
        "plt.grid(True)\n",
        "plt.savefig('articlespermonthafterclassification.png')"
      ],
      "metadata": {
        "colab": {
          "base_uri": "https://localhost:8080/",
          "height": 607
        },
        "id": "VThDFa1lj3WG",
        "outputId": "0886330a-40c0-4a86-b366-c6930707b3a5"
      },
      "execution_count": null,
      "outputs": [
        {
          "output_type": "display_data",
          "data": {
            "text/plain": [
              "<Figure size 1000x600 with 1 Axes>"
            ],
            "image/png": "[encoded data removed]"
          },
          "metadata": {}
        }
      ]
    },
    {
      "cell_type": "markdown",
      "source": [
        "## **AVERAGES FOR BERT AND ROBERTA FOLDS**"
      ],
      "metadata": {
        "id": "H571c7AXPSBO"
      }
    },
    {
      "cell_type": "code",
      "source": [
        "bert_data = {\n",
        "    'Fold': [1, 2, 3, 4, 5],\n",
        "    'Accuracy': [1.00, 0.88, 0.78, 0.95, 0.85],\n",
        "    'Precision': [1.00, 0.77, 0.58, 1.00, 0.67],\n",
        "    'Recall': [1.00, 0.83, 0.92, 0.83, 1.00],\n",
        "    'F1 Score': [1.00, 0.80, 0.71, 0.91, 0.80]\n",
        "}\n",
        "\n",
        "bert_metrics_df = pd.DataFrame(bert_data)\n",
        "\n",
        "bert_metrics_df['F1 Score'].mean()"
      ],
      "metadata": {
        "colab": {
          "base_uri": "https://localhost:8080/"
        },
        "id": "oPZ1ZdY_PRlk",
        "outputId": "949aa433-3ca1-4a2d-8bf3-cb0c96cf724d"
      },
      "execution_count": null,
      "outputs": [
        {
          "output_type": "execute_result",
          "data": {
            "text/plain": [
              "np.float64(0.844)"
            ]
          },
          "metadata": {},
          "execution_count": 39
        }
      ]
    },
    {
      "cell_type": "code",
      "source": [
        "roberta_data = {\n",
        "    'Fold': [1, 2, 3, 4, 5],\n",
        "    'Accuracy': [0.93, 0.95, 0.80, 0.92, 0.80],\n",
        "    'Precision': [0.85, 1.00, 0.70, 0.90, 1.00],\n",
        "    'Recall': [0.92, 0.17, 0.58, 0.83, 0.33],\n",
        "    'F1 Score': [0.88, 0.29, 0.64, 0.87, 0.50]\n",
        "}\n",
        "\n",
        "roberta_metrics_df = pd.DataFrame(roberta_data)\n",
        "\n",
        "roberta_metrics_df['F1 Score'].mean()"
      ],
      "metadata": {
        "colab": {
          "base_uri": "https://localhost:8080/"
        },
        "id": "frc-MznLQGWx",
        "outputId": "2d5e36b5-acc8-4350-d434-2a3616253706"
      },
      "execution_count": null,
      "outputs": [
        {
          "output_type": "execute_result",
          "data": {
            "text/plain": [
              "np.float64(0.636)"
            ]
          },
          "metadata": {},
          "execution_count": 44
        }
      ]
    }
  ]
}