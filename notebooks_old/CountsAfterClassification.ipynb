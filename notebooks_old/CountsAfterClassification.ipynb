{
  "cells": [
    {
      "cell_type": "code",
      "execution_count": null,
      "metadata": {
        "colab": {
          "base_uri": "https://localhost:8080/"
        },
        "id": "WKv7V4b7487Y",
        "outputId": "515c0212-8986-4e27-82e9-31381abd8e20"
      },
      "outputs": [
        {
          "output_type": "stream",
          "name": "stdout",
          "text": [
            "Mounted at /content/drive\n"
          ]
        }
      ],
      "source": [
        "from google.colab import drive\n",
        "drive.mount('/content/drive')"
      ]
    },
    {
      "cell_type": "code",
      "execution_count": null,
      "metadata": {
        "id": "biPoF8I93o74"
      },
      "outputs": [],
      "source": [
        "import pandas as pd\n",
        "import numpy as np\n",
        "import json\n",
        "from tqdm.auto import tqdm\n",
        "import re"
      ]
    },
    {
      "cell_type": "code",
      "execution_count": null,
      "metadata": {
        "id": "biLUgGMAGe_E"
      },
      "outputs": [],
      "source": [
        "start_file_path = '/content/drive/My Drive/articles/relevant_articles'"
      ]
    },
    {
      "cell_type": "code",
      "source": [
        "# # filepaths for each one\n",
        "# apnews_filepath = f'{start_file_path}/apnews_relevant.json'\n",
        "# bbc_filepath = f'{start_file_path}/bbc_relevant.json'\n",
        "# cnn_filepath = f'{start_file_path}/cnn_relevant.json'\n",
        "# dailymail_filepath = f'{start_file_path}/dailymail_relevant.json'\n",
        "# foxnews_filepath = f'{start_file_path}/foxnews_relevant.json'\n",
        "# guardian_filepath = f'{start_file_path}/guardian_relevant.json'\n",
        "# hindustantimes_filepath = f'{start_file_path}/hindustantimes_relevant.json'\n",
        "# independent_filepath = f'{start_file_path}/independent_relevant.json'\n",
        "# india_filepath = f'{start_file_path}/india_relevant.json'\n",
        "# indianexpress_filepath = f'{start_file_path}/indianexpress_relevant.json'\n",
        "# nbcnews_filepath = f'{start_file_path}/nbcnews_relevant.json'\n",
        "# news18_filepath = f'{start_file_path}/news18_relevant.json'\n",
        "# newsweek_filepath = f'{start_file_path}/newsweek_relevant.json'\n",
        "# nypost_filepath = f'{start_file_path}/nypost_relevant.json'\n",
        "# usatoday_filepath = f'{start_file_path}/usatoday_relevant.json'\n",
        "\n",
        "# filepaths = [apnews_filepath, bbc_filepath, cnn_filepath, dailymail_filepath, foxnews_filepath, guardian_filepath, hindustantimes_filepath, independent_filepath, india_filepath, indianexpress_filepath,\n",
        "#              nbcnews_filepath, news18_filepath, newsweek_filepath, nypost_filepath, usatoday_filepath]"
      ],
      "metadata": {
        "colab": {
          "base_uri": "https://localhost:8080/"
        },
        "id": "QP0ALadu_qkR",
        "outputId": "6f1ab1c5-84da-4374-a298-82c432c2c395"
      },
      "execution_count": null,
      "outputs": [
        {
          "output_type": "execute_result",
          "data": {
            "text/plain": [
              "15"
            ]
          },
          "metadata": {},
          "execution_count": 7
        }
      ]
    },
    {
      "cell_type": "code",
      "source": [
        "df_articles = pd.read_pickle('/content/drive/My Drive/articles' + \"/df_articles.pkl\")"
      ],
      "metadata": {
        "id": "PIYhLwu0CDKo"
      },
      "execution_count": null,
      "outputs": []
    },
    {
      "cell_type": "code",
      "source": [
        "#read in all\n",
        "\n",
        "# df = pd.concat([pd.read_json(filepath) for filepath in filepaths])"
      ],
      "metadata": {
        "id": "PlZKDP9JBRx4"
      },
      "execution_count": null,
      "outputs": []
    },
    {
      "cell_type": "code",
      "source": [
        "# df.columns"
      ],
      "metadata": {
        "colab": {
          "base_uri": "https://localhost:8080/"
        },
        "id": "VcAZP3LRBwC_",
        "outputId": "a94189a4-f087-48e5-c6e7-4c9e4714520d"
      },
      "execution_count": null,
      "outputs": [
        {
          "output_type": "execute_result",
          "data": {
            "text/plain": [
              "Index(['index', 'title', 'text', 'url', 'source_domain', 'date_published',\n",
              "       'authors', 'matched_keywords', 'description', 'full_text',\n",
              "       'predicted_label', 'relevant', 'level_0'],\n",
              "      dtype='object')"
            ]
          },
          "metadata": {},
          "execution_count": 21
        }
      ]
    },
    {
      "cell_type": "code",
      "source": [
        "# df = df.drop(columns=['level_0', 'index', 'predicted_label', 'relevant'], axis=1).reset_index(drop=True)\n",
        "# def remove_multi_newlines(text):\n",
        "#    return re.sub(r'\\n\\s*\\n+\\s*', '\\n', text)\n",
        "\n",
        "# df['full_text'] = df['full_text'].map(remove_multi_newlines)"
      ],
      "metadata": {
        "id": "lWXZEKPpCoLx"
      },
      "execution_count": null,
      "outputs": []
    },
    {
      "cell_type": "code",
      "source": [
        "# df.to_pickle(f'{start_file_path}/df_relevant_articles.pkl')"
      ],
      "metadata": {
        "id": "ut8faUP5RlFs"
      },
      "execution_count": null,
      "outputs": []
    },
    {
      "cell_type": "code",
      "source": [
        "df = pd.read_pickle(f'{start_file_path}/df_relevant_articles.pkl')"
      ],
      "metadata": {
        "id": "tYSJPIE17Ttb"
      },
      "execution_count": null,
      "outputs": []
    },
    {
      "cell_type": "code",
      "source": [
        "differences = df_articles['source_domain'].value_counts() - df['source_domain'].value_counts()\n",
        "\n",
        "# differences.sort_values(ascending=False)\n",
        "\n",
        "\n",
        "percentage_relevant = df['source_domain'].value_counts() / df_articles['source_domain'].value_counts() * 100\n",
        "\n",
        "percentage_relevant.sort_values(ascending=False)"
      ],
      "metadata": {
        "colab": {
          "base_uri": "https://localhost:8080/",
          "height": 585
        },
        "id": "7wRoX1_wDPti",
        "outputId": "65e38d25-8cca-4284-f693-afac0c6a6f7b"
      },
      "execution_count": null,
      "outputs": [
        {
          "output_type": "execute_result",
          "data": {
            "text/plain": [
              "source_domain\n",
              "theguardian.com       68.037314\n",
              "news18.com            60.263240\n",
              "india.com             53.493976\n",
              "hindustantimes.com    47.678221\n",
              "cnn.com               40.040998\n",
              "bbc.com               36.726157\n",
              "indianexpress.com     36.692369\n",
              "independent.co.uk     33.435549\n",
              "apnews.com            31.967075\n",
              "nbcnews.com           25.431862\n",
              "nypost.com            21.952404\n",
              "usatoday.com          21.744097\n",
              "dailymail.co.uk       18.469743\n",
              "newsweek.com          17.222222\n",
              "foxnews.com           12.978959\n",
              "Name: count, dtype: float64"
            ],
            "text/html": [
              "<div>\n",
              "<style scoped>\n",
              "    .dataframe tbody tr th:only-of-type {\n",
              "        vertical-align: middle;\n",
              "    }\n",
              "\n",
              "    .dataframe tbody tr th {\n",
              "        vertical-align: top;\n",
              "    }\n",
              "\n",
              "    .dataframe thead th {\n",
              "        text-align: right;\n",
              "    }\n",
              "</style>\n",
              "<table border=\"1\" class=\"dataframe\">\n",
              "  <thead>\n",
              "    <tr style=\"text-align: right;\">\n",
              "      <th></th>\n",
              "      <th>count</th>\n",
              "    </tr>\n",
              "    <tr>\n",
              "      <th>source_domain</th>\n",
              "      <th></th>\n",
              "    </tr>\n",
              "  </thead>\n",
              "  <tbody>\n",
              "    <tr>\n",
              "      <th>theguardian.com</th>\n",
              "      <td>68.037314</td>\n",
              "    </tr>\n",
              "    <tr>\n",
              "      <th>news18.com</th>\n",
              "      <td>60.263240</td>\n",
              "    </tr>\n",
              "    <tr>\n",
              "      <th>india.com</th>\n",
              "      <td>53.493976</td>\n",
              "    </tr>\n",
              "    <tr>\n",
              "      <th>hindustantimes.com</th>\n",
              "      <td>47.678221</td>\n",
              "    </tr>\n",
              "    <tr>\n",
              "      <th>cnn.com</th>\n",
              "      <td>40.040998</td>\n",
              "    </tr>\n",
              "    <tr>\n",
              "      <th>bbc.com</th>\n",
              "      <td>36.726157</td>\n",
              "    </tr>\n",
              "    <tr>\n",
              "      <th>indianexpress.com</th>\n",
              "      <td>36.692369</td>\n",
              "    </tr>\n",
              "    <tr>\n",
              "      <th>independent.co.uk</th>\n",
              "      <td>33.435549</td>\n",
              "    </tr>\n",
              "    <tr>\n",
              "      <th>apnews.com</th>\n",
              "      <td>31.967075</td>\n",
              "    </tr>\n",
              "    <tr>\n",
              "      <th>nbcnews.com</th>\n",
              "      <td>25.431862</td>\n",
              "    </tr>\n",
              "    <tr>\n",
              "      <th>nypost.com</th>\n",
              "      <td>21.952404</td>\n",
              "    </tr>\n",
              "    <tr>\n",
              "      <th>usatoday.com</th>\n",
              "      <td>21.744097</td>\n",
              "    </tr>\n",
              "    <tr>\n",
              "      <th>dailymail.co.uk</th>\n",
              "      <td>18.469743</td>\n",
              "    </tr>\n",
              "    <tr>\n",
              "      <th>newsweek.com</th>\n",
              "      <td>17.222222</td>\n",
              "    </tr>\n",
              "    <tr>\n",
              "      <th>foxnews.com</th>\n",
              "      <td>12.978959</td>\n",
              "    </tr>\n",
              "  </tbody>\n",
              "</table>\n",
              "</div><br><label><b>dtype:</b> float64</label>"
            ]
          },
          "metadata": {},
          "execution_count": 10
        }
      ]
    }
  ],
  "metadata": {
    "colab": {
      "provenance": [],
      "authorship_tag": "ABX9TyO9ANzeiDnjOJUwX5ZPm1J3"
    },
    "kernelspec": {
      "display_name": "Python 3",
      "name": "python3"
    },
    "language_info": {
      "name": "python"
    }
  },
  "nbformat": 4,
  "nbformat_minor": 0
}